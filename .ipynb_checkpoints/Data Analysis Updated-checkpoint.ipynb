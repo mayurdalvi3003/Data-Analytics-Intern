{
 "cells": [
  {
   "cell_type": "code",
   "execution_count": 1,
   "id": "9225a64a-c3fa-4216-9340-4bdb2808d2c0",
   "metadata": {},
   "outputs": [],
   "source": [
    "# Importing some essential Libraries\n",
    "import numpy as np \n",
    "import pandas as pd \n",
    "import matplotlib.pyplot as plt \n",
    "import seaborn as sns"
   ]
  },
  {
   "cell_type": "code",
   "execution_count": 2,
   "id": "ad2899d4-dab5-41cc-ba5f-4d411d91e267",
   "metadata": {},
   "outputs": [
    {
     "data": {
      "text/html": [
       "<div>\n",
       "<style scoped>\n",
       "    .dataframe tbody tr th:only-of-type {\n",
       "        vertical-align: middle;\n",
       "    }\n",
       "\n",
       "    .dataframe tbody tr th {\n",
       "        vertical-align: top;\n",
       "    }\n",
       "\n",
       "    .dataframe thead th {\n",
       "        text-align: right;\n",
       "    }\n",
       "</style>\n",
       "<table border=\"1\" class=\"dataframe\">\n",
       "  <thead>\n",
       "    <tr style=\"text-align: right;\">\n",
       "      <th></th>\n",
       "      <th>First Name</th>\n",
       "      <th>Email ID</th>\n",
       "      <th>Quantity</th>\n",
       "      <th>Events</th>\n",
       "      <th>Attendee Status</th>\n",
       "      <th>College Name</th>\n",
       "      <th>How did you come to know about this event?</th>\n",
       "      <th>Specify in \"Others\" (how did you come to know about this event)</th>\n",
       "      <th>Designation</th>\n",
       "      <th>Year of Graduation</th>\n",
       "      <th>City</th>\n",
       "      <th>CGPA</th>\n",
       "      <th>Experience with python (Months)</th>\n",
       "      <th>Family Income</th>\n",
       "      <th>Expected salary (Lac)</th>\n",
       "      <th>Leadership- skills</th>\n",
       "    </tr>\n",
       "  </thead>\n",
       "  <tbody>\n",
       "    <tr>\n",
       "      <th>0</th>\n",
       "      <td>ANIKET</td>\n",
       "      <td>aniket@xyz.com</td>\n",
       "      <td>1</td>\n",
       "      <td>Art of Resume Building</td>\n",
       "      <td>Attending</td>\n",
       "      <td>D Y PATIL INSTITUTE OF MCA AND MANAGEMENT AKUR...</td>\n",
       "      <td>Email</td>\n",
       "      <td>NaN</td>\n",
       "      <td>Students</td>\n",
       "      <td>2024</td>\n",
       "      <td>Patna</td>\n",
       "      <td>6.7</td>\n",
       "      <td>7</td>\n",
       "      <td>7 Lakh+</td>\n",
       "      <td>6</td>\n",
       "      <td>yes</td>\n",
       "    </tr>\n",
       "    <tr>\n",
       "      <th>1</th>\n",
       "      <td>Dhanshree</td>\n",
       "      <td>dhanshree@xyz.com</td>\n",
       "      <td>1</td>\n",
       "      <td>Art of Resume Building</td>\n",
       "      <td>Attending</td>\n",
       "      <td>AP SHAH INSTITUTE OF TECHNOLOGY</td>\n",
       "      <td>Others</td>\n",
       "      <td>College</td>\n",
       "      <td>Students</td>\n",
       "      <td>2024</td>\n",
       "      <td>Amravati</td>\n",
       "      <td>8.2</td>\n",
       "      <td>3</td>\n",
       "      <td>0-2 Lakh</td>\n",
       "      <td>7</td>\n",
       "      <td>no</td>\n",
       "    </tr>\n",
       "    <tr>\n",
       "      <th>2</th>\n",
       "      <td>Dhiraj</td>\n",
       "      <td>dhiraj@xyz.com</td>\n",
       "      <td>1</td>\n",
       "      <td>Art of Resume Building</td>\n",
       "      <td>Attending</td>\n",
       "      <td>Don Bosco College of Engineering Fatorda Goa</td>\n",
       "      <td>Email</td>\n",
       "      <td>NaN</td>\n",
       "      <td>Students</td>\n",
       "      <td>2023</td>\n",
       "      <td>Kunrool</td>\n",
       "      <td>6.5</td>\n",
       "      <td>4</td>\n",
       "      <td>5-7 Lakh</td>\n",
       "      <td>7</td>\n",
       "      <td>no</td>\n",
       "    </tr>\n",
       "    <tr>\n",
       "      <th>3</th>\n",
       "      <td>Pooja</td>\n",
       "      <td>pooja@xyz.com</td>\n",
       "      <td>1</td>\n",
       "      <td>Art of Resume Building</td>\n",
       "      <td>Attending</td>\n",
       "      <td>Pillai College of Engineering New Panvel</td>\n",
       "      <td>Email</td>\n",
       "      <td>NaN</td>\n",
       "      <td>Students</td>\n",
       "      <td>2025</td>\n",
       "      <td>Tirupati</td>\n",
       "      <td>8.7</td>\n",
       "      <td>7</td>\n",
       "      <td>2-5 Lakh</td>\n",
       "      <td>8</td>\n",
       "      <td>no</td>\n",
       "    </tr>\n",
       "    <tr>\n",
       "      <th>4</th>\n",
       "      <td>Aayush</td>\n",
       "      <td>aayush@xyz.com</td>\n",
       "      <td>1</td>\n",
       "      <td>Art of Resume Building</td>\n",
       "      <td>Attending</td>\n",
       "      <td>St Xavier's College</td>\n",
       "      <td>Instagram | LinkedIn | Cloud Counselage Website</td>\n",
       "      <td>NaN</td>\n",
       "      <td>Students</td>\n",
       "      <td>2024</td>\n",
       "      <td>Vijaywada</td>\n",
       "      <td>9.1</td>\n",
       "      <td>3</td>\n",
       "      <td>0-2 Lakh</td>\n",
       "      <td>10</td>\n",
       "      <td>yes</td>\n",
       "    </tr>\n",
       "    <tr>\n",
       "      <th>...</th>\n",
       "      <td>...</td>\n",
       "      <td>...</td>\n",
       "      <td>...</td>\n",
       "      <td>...</td>\n",
       "      <td>...</td>\n",
       "      <td>...</td>\n",
       "      <td>...</td>\n",
       "      <td>...</td>\n",
       "      <td>...</td>\n",
       "      <td>...</td>\n",
       "      <td>...</td>\n",
       "      <td>...</td>\n",
       "      <td>...</td>\n",
       "      <td>...</td>\n",
       "      <td>...</td>\n",
       "      <td>...</td>\n",
       "    </tr>\n",
       "    <tr>\n",
       "      <th>4889</th>\n",
       "      <td>Patel Niraj</td>\n",
       "      <td>patelniraj@xyz.com</td>\n",
       "      <td>1</td>\n",
       "      <td>The SDLC &amp; their transformations</td>\n",
       "      <td>Attending</td>\n",
       "      <td>thakur institute of management studies, career...</td>\n",
       "      <td>LinkedIn | Whatsapp | Email</td>\n",
       "      <td>NaN</td>\n",
       "      <td>Students</td>\n",
       "      <td>2024</td>\n",
       "      <td>Jodhpur</td>\n",
       "      <td>6.9</td>\n",
       "      <td>6</td>\n",
       "      <td>0-2 Lakh</td>\n",
       "      <td>15</td>\n",
       "      <td>yes</td>\n",
       "    </tr>\n",
       "    <tr>\n",
       "      <th>4890</th>\n",
       "      <td>VIDIT</td>\n",
       "      <td>vidit@xyz.com</td>\n",
       "      <td>1</td>\n",
       "      <td>Data Visualization using Power BI</td>\n",
       "      <td>Attending</td>\n",
       "      <td>government polytechnic gandhinagar</td>\n",
       "      <td>NaN</td>\n",
       "      <td>NaN</td>\n",
       "      <td>Students</td>\n",
       "      <td>2023</td>\n",
       "      <td>Jalgaon</td>\n",
       "      <td>6.5</td>\n",
       "      <td>6</td>\n",
       "      <td>0-2 Lakh</td>\n",
       "      <td>8</td>\n",
       "      <td>no</td>\n",
       "    </tr>\n",
       "    <tr>\n",
       "      <th>4891</th>\n",
       "      <td>Suryaprakash</td>\n",
       "      <td>suryaprakash@xyz.com</td>\n",
       "      <td>1</td>\n",
       "      <td>Data Visualization using Power BI</td>\n",
       "      <td>Attending</td>\n",
       "      <td>vishwakarma institute of technology, pune</td>\n",
       "      <td>NaN</td>\n",
       "      <td>NaN</td>\n",
       "      <td>Students</td>\n",
       "      <td>2024</td>\n",
       "      <td>Thane</td>\n",
       "      <td>6.9</td>\n",
       "      <td>5</td>\n",
       "      <td>0-2 Lakh</td>\n",
       "      <td>7</td>\n",
       "      <td>no</td>\n",
       "    </tr>\n",
       "    <tr>\n",
       "      <th>4892</th>\n",
       "      <td>Saif ali</td>\n",
       "      <td>saifali@xyz.com</td>\n",
       "      <td>1</td>\n",
       "      <td>Data Visualization using Power BI</td>\n",
       "      <td>Attending</td>\n",
       "      <td>mit academy of engineering ,alandi</td>\n",
       "      <td>NaN</td>\n",
       "      <td>NaN</td>\n",
       "      <td>Students</td>\n",
       "      <td>2024</td>\n",
       "      <td>Patiala</td>\n",
       "      <td>9.0</td>\n",
       "      <td>3</td>\n",
       "      <td>0-2 Lakh</td>\n",
       "      <td>23</td>\n",
       "      <td>yes</td>\n",
       "    </tr>\n",
       "    <tr>\n",
       "      <th>4893</th>\n",
       "      <td>Lankesh</td>\n",
       "      <td>lankesh@xyz.com</td>\n",
       "      <td>1</td>\n",
       "      <td>Data Visualization using Power BI</td>\n",
       "      <td>Attending</td>\n",
       "      <td>a. c. patil college of engineering</td>\n",
       "      <td>NaN</td>\n",
       "      <td>NaN</td>\n",
       "      <td>Students</td>\n",
       "      <td>2025</td>\n",
       "      <td>Sangrur</td>\n",
       "      <td>7.2</td>\n",
       "      <td>8</td>\n",
       "      <td>0-2 Lakh</td>\n",
       "      <td>9</td>\n",
       "      <td>yes</td>\n",
       "    </tr>\n",
       "  </tbody>\n",
       "</table>\n",
       "<p>4894 rows × 16 columns</p>\n",
       "</div>"
      ],
      "text/plain": [
       "        First Name              Email ID  Quantity  \\\n",
       "0           ANIKET        aniket@xyz.com         1   \n",
       "1        Dhanshree     dhanshree@xyz.com         1   \n",
       "2           Dhiraj        dhiraj@xyz.com         1   \n",
       "3            Pooja         pooja@xyz.com         1   \n",
       "4           Aayush        aayush@xyz.com         1   \n",
       "...            ...                   ...       ...   \n",
       "4889   Patel Niraj    patelniraj@xyz.com         1   \n",
       "4890         VIDIT         vidit@xyz.com         1   \n",
       "4891  Suryaprakash  suryaprakash@xyz.com         1   \n",
       "4892      Saif ali       saifali@xyz.com         1   \n",
       "4893       Lankesh       lankesh@xyz.com         1   \n",
       "\n",
       "                                 Events Attendee Status  \\\n",
       "0                Art of Resume Building       Attending   \n",
       "1                Art of Resume Building       Attending   \n",
       "2                Art of Resume Building       Attending   \n",
       "3                Art of Resume Building       Attending   \n",
       "4                Art of Resume Building       Attending   \n",
       "...                                 ...             ...   \n",
       "4889   The SDLC & their transformations       Attending   \n",
       "4890  Data Visualization using Power BI       Attending   \n",
       "4891  Data Visualization using Power BI       Attending   \n",
       "4892  Data Visualization using Power BI       Attending   \n",
       "4893  Data Visualization using Power BI       Attending   \n",
       "\n",
       "                                           College Name  \\\n",
       "0     D Y PATIL INSTITUTE OF MCA AND MANAGEMENT AKUR...   \n",
       "1                      AP SHAH INSTITUTE OF TECHNOLOGY    \n",
       "2          Don Bosco College of Engineering Fatorda Goa   \n",
       "3              Pillai College of Engineering New Panvel   \n",
       "4                                  St Xavier's College    \n",
       "...                                                 ...   \n",
       "4889  thakur institute of management studies, career...   \n",
       "4890                 government polytechnic gandhinagar   \n",
       "4891          vishwakarma institute of technology, pune   \n",
       "4892                 mit academy of engineering ,alandi   \n",
       "4893                 a. c. patil college of engineering   \n",
       "\n",
       "           How did you come to know about this event?  \\\n",
       "0                                               Email   \n",
       "1                                              Others   \n",
       "2                                               Email   \n",
       "3                                               Email   \n",
       "4     Instagram | LinkedIn | Cloud Counselage Website   \n",
       "...                                               ...   \n",
       "4889                      LinkedIn | Whatsapp | Email   \n",
       "4890                                              NaN   \n",
       "4891                                              NaN   \n",
       "4892                                              NaN   \n",
       "4893                                              NaN   \n",
       "\n",
       "     Specify in \"Others\" (how did you come to know about this event)  \\\n",
       "0                                                   NaN                \n",
       "1                                               College                \n",
       "2                                                   NaN                \n",
       "3                                                   NaN                \n",
       "4                                                   NaN                \n",
       "...                                                 ...                \n",
       "4889                                                NaN                \n",
       "4890                                                NaN                \n",
       "4891                                                NaN                \n",
       "4892                                                NaN                \n",
       "4893                                                NaN                \n",
       "\n",
       "     Designation  Year of Graduation       City  CGPA  \\\n",
       "0       Students                2024      Patna   6.7   \n",
       "1       Students                2024   Amravati   8.2   \n",
       "2       Students                2023    Kunrool   6.5   \n",
       "3       Students                2025   Tirupati   8.7   \n",
       "4       Students                2024  Vijaywada   9.1   \n",
       "...          ...                 ...        ...   ...   \n",
       "4889    Students                2024    Jodhpur   6.9   \n",
       "4890    Students                2023    Jalgaon   6.5   \n",
       "4891    Students                2024      Thane   6.9   \n",
       "4892    Students                2024    Patiala   9.0   \n",
       "4893    Students                2025    Sangrur   7.2   \n",
       "\n",
       "      Experience with python (Months) Family Income  Expected salary (Lac)  \\\n",
       "0                                   7       7 Lakh+                      6   \n",
       "1                                   3      0-2 Lakh                      7   \n",
       "2                                   4      5-7 Lakh                      7   \n",
       "3                                   7      2-5 Lakh                      8   \n",
       "4                                   3      0-2 Lakh                     10   \n",
       "...                               ...           ...                    ...   \n",
       "4889                                6      0-2 Lakh                     15   \n",
       "4890                                6      0-2 Lakh                      8   \n",
       "4891                                5      0-2 Lakh                      7   \n",
       "4892                                3      0-2 Lakh                     23   \n",
       "4893                                8      0-2 Lakh                      9   \n",
       "\n",
       "     Leadership- skills  \n",
       "0                   yes  \n",
       "1                    no  \n",
       "2                    no  \n",
       "3                    no  \n",
       "4                   yes  \n",
       "...                 ...  \n",
       "4889                yes  \n",
       "4890                 no  \n",
       "4891                 no  \n",
       "4892                yes  \n",
       "4893                yes  \n",
       "\n",
       "[4894 rows x 16 columns]"
      ]
     },
     "execution_count": 2,
     "metadata": {},
     "output_type": "execute_result"
    }
   ],
   "source": [
    "# Loading the dataset\n",
    "new_df = pd.read_excel(\"Data analyst Data (1).xlsx\")\n",
    "new_df"
   ]
  },
  {
   "cell_type": "code",
   "execution_count": 3,
   "id": "80d3d501-0230-4c4e-9843-8acfd0530609",
   "metadata": {},
   "outputs": [],
   "source": [
    "'''here i am running loop over all the columns and i am checking if the datatype of that particular col\n",
    "is object or not , if it is object then convert that column's value in the lowercase\n",
    "'''\n",
    "for col in new_df.columns:\n",
    "    if new_df[col].dtypes == \"object\" :\n",
    "        new_df[col] = new_df[col].str.lower()\n"
   ]
  },
  {
   "cell_type": "code",
   "execution_count": 4,
   "id": "33251df4-3694-4b66-81d4-9d14b1852dbf",
   "metadata": {},
   "outputs": [],
   "source": [
    "# here i am dropping the duplicates entry\n",
    "\n",
    "new_df.drop_duplicates(subset = [\"Email ID\", 'College Name'] , inplace=True)"
   ]
  },
  {
   "cell_type": "code",
   "execution_count": 5,
   "id": "b1982905-0bb6-40c4-b4a1-e6f2b2780fa6",
   "metadata": {},
   "outputs": [],
   "source": [
    "df = new_df.copy() # here i am making the copy of my original dataset "
   ]
  },
  {
   "cell_type": "code",
   "execution_count": 6,
   "id": "5cc14717-5e2d-469c-a44d-3ffd653aaa8e",
   "metadata": {},
   "outputs": [
    {
     "name": "stdout",
     "output_type": "stream",
     "text": [
      "<class 'pandas.core.frame.DataFrame'>\n",
      "Index: 4524 entries, 0 to 4893\n",
      "Data columns (total 16 columns):\n",
      " #   Column                                                           Non-Null Count  Dtype  \n",
      "---  ------                                                           --------------  -----  \n",
      " 0   First Name                                                       4524 non-null   object \n",
      " 1   Email ID                                                         4524 non-null   object \n",
      " 2   Quantity                                                         4524 non-null   int64  \n",
      " 3   Events                                                           4524 non-null   object \n",
      " 4   Attendee Status                                                  4524 non-null   object \n",
      " 5   College Name                                                     4509 non-null   object \n",
      " 6   How did you come to know about this event?                       2456 non-null   object \n",
      " 7   Specify in \"Others\" (how did you come to know about this event)  80 non-null     object \n",
      " 8   Designation                                                      4524 non-null   object \n",
      " 9   Year of Graduation                                               4524 non-null   int64  \n",
      " 10  City                                                             4524 non-null   object \n",
      " 11  CGPA                                                             4524 non-null   float64\n",
      " 12  Experience with python (Months)                                  4524 non-null   int64  \n",
      " 13  Family Income                                                    4524 non-null   object \n",
      " 14  Expected salary (Lac)                                            4524 non-null   int64  \n",
      " 15  Leadership- skills                                               4524 non-null   object \n",
      "dtypes: float64(1), int64(4), object(11)\n",
      "memory usage: 600.8+ KB\n"
     ]
    }
   ],
   "source": [
    "df.info() # checking the information about all the features in my dataset"
   ]
  },
  {
   "cell_type": "code",
   "execution_count": 7,
   "id": "7997d863-27d0-4a31-ae34-8f42a020d66c",
   "metadata": {},
   "outputs": [
    {
     "data": {
      "text/plain": [
       "First Name                                                            0\n",
       "Email ID                                                              0\n",
       "Quantity                                                              0\n",
       "Events                                                                0\n",
       "Attendee Status                                                       0\n",
       "College Name                                                         15\n",
       "How did you come to know about this event?                         2068\n",
       "Specify in \"Others\" (how did you come to know about this event)    4444\n",
       "Designation                                                           0\n",
       "Year of Graduation                                                    0\n",
       "City                                                                  0\n",
       "CGPA                                                                  0\n",
       "Experience with python (Months)                                       0\n",
       "Family Income                                                         0\n",
       "Expected salary (Lac)                                                 0\n",
       "Leadership- skills                                                    0\n",
       "dtype: int64"
      ]
     },
     "execution_count": 7,
     "metadata": {},
     "output_type": "execute_result"
    }
   ],
   "source": [
    "df.isnull().sum() # here i am checking whether my data is containing any null values or not"
   ]
  },
  {
   "cell_type": "code",
   "execution_count": 8,
   "id": "043081cc-1d9f-4db2-b4ac-ac8423a522b2",
   "metadata": {},
   "outputs": [],
   "source": [
    "# here i am replacing those column name which are actuallly big in size\n",
    "df = df.rename(columns={'How did you come to know about this event?': 'Event_Source', 'Specify in \"Others\" (how did you come to know about this event)': 'Other_Source' , 'Family Income' :\"Family_Income(Lack)\" ,'Expected salary (Lac)':'Expected salary (Lack)'})"
   ]
  },
  {
   "cell_type": "code",
   "execution_count": 9,
   "id": "d200c2d0-1c49-45df-9e74-03dc43039858",
   "metadata": {},
   "outputs": [],
   "source": [
    "for col in df.columns:\n",
    "    if df[col].dtypes == \"object\" :\n",
    "        df[col] = df[col].str.lower()\n"
   ]
  },
  {
   "cell_type": "code",
   "execution_count": 10,
   "id": "96545eec-4ead-48b3-bf52-a89096d5d19f",
   "metadata": {},
   "outputs": [],
   "source": [
    "df.drop_duplicates(subset = [\"Email ID\", 'College Name'] , inplace=True)"
   ]
  },
  {
   "cell_type": "code",
   "execution_count": 11,
   "id": "e9691eb9-85c5-4be0-bf0e-1f6a2eefa4cf",
   "metadata": {},
   "outputs": [
    {
     "data": {
      "text/plain": [
       "(4524, 16)"
      ]
     },
     "execution_count": 11,
     "metadata": {},
     "output_type": "execute_result"
    }
   ],
   "source": [
    "df.shape # here i am checking the shape of my dataset"
   ]
  },
  {
   "cell_type": "code",
   "execution_count": 12,
   "id": "4ade7d6c-5216-47e3-869c-e78278479157",
   "metadata": {},
   "outputs": [
    {
     "data": {
      "text/plain": [
       "Attendee Status\n",
       "attending    4513\n",
       "nan            11\n",
       "Name: count, dtype: int64"
      ]
     },
     "execution_count": 12,
     "metadata": {},
     "output_type": "execute_result"
    }
   ],
   "source": [
    "df[\"Attendee Status\"].value_counts()"
   ]
  },
  {
   "cell_type": "code",
   "execution_count": 13,
   "id": "60707a6c-146b-47d8-aa6f-2b272fba8a39",
   "metadata": {},
   "outputs": [],
   "source": [
    "# here i am replacing the nan value with the attending \n",
    "df[\"Attendee Status\"] = df[\"Attendee Status\"].str.replace('nan' , 'attending')"
   ]
  },
  {
   "cell_type": "code",
   "execution_count": 14,
   "id": "633f8db3-20f4-47fd-8a51-e86aedeab0c3",
   "metadata": {},
   "outputs": [
    {
     "data": {
      "text/plain": [
       "Attendee Status\n",
       "attending    4524\n",
       "Name: count, dtype: int64"
      ]
     },
     "execution_count": 14,
     "metadata": {},
     "output_type": "execute_result"
    }
   ],
   "source": [
    "df[\"Attendee Status\"].value_counts() # here i am checking whether the changes which have done above has succesfullly applied or not \n"
   ]
  },
  {
   "cell_type": "code",
   "execution_count": 15,
   "id": "523c0418-9a1c-4042-ae29-597772c8c173",
   "metadata": {},
   "outputs": [
    {
     "data": {
      "text/plain": [
       "College Name\n",
       "priyadarshini college of engineering, nagpur                                         280\n",
       "vidyalankar institute of technology, mumbai                                          270\n",
       "ld college of engineering, ahmedabad, gujarat                                        268\n",
       "b. k. birla college of arts, science & commerce (autonomous), kalyan                 229\n",
       "government polytechnic gandhinagar                                                   224\n",
       "g h raisoni institut of engineering and technology pune                              214\n",
       "vishwakarma institute of technology, pune                                            207\n",
       "kle society's college of bca, rls institute, belagavi                                205\n",
       "a. c. patil college of engineering                                                   203\n",
       "wilson college                                                                       200\n",
       "dkte society's textile and engineering institute ichalkaranji                        199\n",
       "mit academy of engineering ,alandi                                                   188\n",
       "symbiosis institute of technology, pune                                              164\n",
       "st.francis institute of technology                                                   163\n",
       "new horizon institute of technology and management                                   162\n",
       "don bosco college of engineering fatorda goa                                         158\n",
       "late g. n. sapkal college of engineering                                             157\n",
       "st xavier's college                                                                  157\n",
       "pillai college of engineering new panvel                                             156\n",
       "chhattisgarh swami vivekananda technical university teaching department bhilai       133\n",
       "silicon institute of technology                                                      131\n",
       "adhiyamaan college of engineering                                                    130\n",
       "lokmanya tilak college of engineering koparkhairane navi mumbai                       97\n",
       "s.i.e.s. graduate school of technology, nerul, navi mumbai                            80\n",
       "thakur institute of management studies, career development & research - [timscdr]     76\n",
       "d y patil institute of mca and management akurdi pune                                 26\n",
       "ap shah institute of technology                                                       26\n",
       "na                                                                                     6\n",
       "Name: count, dtype: int64"
      ]
     },
     "execution_count": 15,
     "metadata": {},
     "output_type": "execute_result"
    }
   ],
   "source": [
    "df['College Name'].value_counts()"
   ]
  },
  {
   "cell_type": "code",
   "execution_count": 16,
   "id": "63d57e65-f31a-431b-9404-9135d33d77a0",
   "metadata": {},
   "outputs": [],
   "source": [
    "df['College Name'] = df['College Name'].replace(\"na\",np.nan)"
   ]
  },
  {
   "cell_type": "code",
   "execution_count": 17,
   "id": "d0253975-f716-43b3-b485-fc410c833753",
   "metadata": {},
   "outputs": [],
   "source": [
    "college_missing_df = df[df[\"College Name\"].isnull()]"
   ]
  },
  {
   "cell_type": "code",
   "execution_count": 18,
   "id": "85881b72-69b3-4a25-a4d8-3aaacd3824f8",
   "metadata": {},
   "outputs": [],
   "source": [
    "'''\n",
    "here i am trying to fill missing values in  college name feature and i am filling those values with the \n",
    "logic given below :- \n",
    "- first i am checking the first_name of that particular row and i am checkig in my original dataset\n",
    "what is the count of college name for that particular First_name and according to the max no.of count i\n",
    "am filling that missing values and if that First_name is not having any college name then i am keeping that\n",
    "as \"others\" \n",
    "'''\n",
    "\n",
    "names_of_students = college_missing_df[\"First Name\"].values.tolist()\n",
    "\n",
    "for name in names_of_students:\n",
    "    # Create a temporary dataframe for each first name\n",
    "    temp_df = df[df[\"First Name\"] == name]\n",
    "    \n",
    "    # Check if there are any college names available\n",
    "    if not temp_df[\"College Name\"].dropna().empty:\n",
    "        # Get the most frequent college name\n",
    "        top_college = temp_df[\"College Name\"].value_counts().idxmax()\n",
    "        \n",
    "        # Fill missing values in the College Name column with the most frequent college name\n",
    "        df.loc[df[\"First Name\"] == name, \"College Name\"] = df.loc[df[\"First Name\"] == name, \"College Name\"].fillna(top_college)\n",
    "    else:\n",
    "        # Handle cases where there are no college names available\n",
    "        \n",
    "        df.loc[df[\"First Name\"] == name, \"College Name\"] = df.loc[df[\"First Name\"] == name, \"College Name\"].fillna(\"others\")\n"
   ]
  },
  {
   "cell_type": "code",
   "execution_count": 19,
   "id": "ab818405-8429-4506-a117-7d8707e9c282",
   "metadata": {},
   "outputs": [
    {
     "data": {
      "text/plain": [
       "College Name\n",
       "priyadarshini college of engineering, nagpur                                         281\n",
       "vidyalankar institute of technology, mumbai                                          270\n",
       "ld college of engineering, ahmedabad, gujarat                                        269\n",
       "b. k. birla college of arts, science & commerce (autonomous), kalyan                 230\n",
       "government polytechnic gandhinagar                                                   225\n",
       "g h raisoni institut of engineering and technology pune                              214\n",
       "vishwakarma institute of technology, pune                                            207\n",
       "kle society's college of bca, rls institute, belagavi                                205\n",
       "a. c. patil college of engineering                                                   203\n",
       "dkte society's textile and engineering institute ichalkaranji                        201\n",
       "wilson college                                                                       200\n",
       "mit academy of engineering ,alandi                                                   188\n",
       "new horizon institute of technology and management                                   165\n",
       "symbiosis institute of technology, pune                                              164\n",
       "st.francis institute of technology                                                   163\n",
       "late g. n. sapkal college of engineering                                             158\n",
       "st xavier's college                                                                  158\n",
       "don bosco college of engineering fatorda goa                                         158\n",
       "pillai college of engineering new panvel                                             157\n",
       "chhattisgarh swami vivekananda technical university teaching department bhilai       133\n",
       "silicon institute of technology                                                      131\n",
       "adhiyamaan college of engineering                                                    130\n",
       "lokmanya tilak college of engineering koparkhairane navi mumbai                       97\n",
       "s.i.e.s. graduate school of technology, nerul, navi mumbai                            80\n",
       "thakur institute of management studies, career development & research - [timscdr]     76\n",
       "d y patil institute of mca and management akurdi pune                                 27\n",
       "ap shah institute of technology                                                       26\n",
       "others                                                                                 8\n",
       "Name: count, dtype: int64"
      ]
     },
     "execution_count": 19,
     "metadata": {},
     "output_type": "execute_result"
    }
   ],
   "source": [
    "df[\"College Name\"].value_counts()"
   ]
  },
  {
   "cell_type": "code",
   "execution_count": 20,
   "id": "049e83da-ff5f-4470-9841-78f9dc21c8be",
   "metadata": {},
   "outputs": [],
   "source": [
    "df.loc[(df[\"College Name\"] == \"others\") & (df.index == 339), \"College Name\"] = 'new horizon institute of technology and management '"
   ]
  },
  {
   "cell_type": "code",
   "execution_count": 21,
   "id": "58dbc93d-3689-4080-9ef1-6ca3c90545c6",
   "metadata": {},
   "outputs": [],
   "source": [
    "df['Event_Source'] = df.apply(lambda row: row['Other_Source'] if row['Event_Source'] == 'others' else row['Event_Source'], axis=1)\n"
   ]
  },
  {
   "cell_type": "code",
   "execution_count": 22,
   "id": "7398eaee-c7e5-4c57-aded-af88a4d9ddfd",
   "metadata": {},
   "outputs": [],
   "source": [
    "event_source_missing_df = df[df[\"Event_Source\"].isnull()]"
   ]
  },
  {
   "cell_type": "code",
   "execution_count": 23,
   "id": "242d9803-4107-4793-9722-39bd924bd837",
   "metadata": {},
   "outputs": [],
   "source": [
    "'''\n",
    "here i am using the same logic which i had used while filling the college_name values , but that logic\n",
    "i am applying on the Event_Source column\n",
    "'''\n",
    "\n",
    "names_of_students = event_source_missing_df[\"First Name\"].values.tolist()\n",
    "\n",
    "for name in names_of_students:\n",
    "    # Create a temporary dataframe for each first name\n",
    "    temp_df = df[df[\"First Name\"] == name]\n",
    "    \n",
    "    # Check if there are any college names available\n",
    "    if not temp_df[\"Event_Source\"].dropna().empty:\n",
    "        # Get the most frequent college name\n",
    "        top_event_sources = temp_df[\"Event_Source\"].value_counts().idxmax()\n",
    "        \n",
    "        # Fill missing values in the Event_Source column with the most frequent Event_Source\n",
    "        df.loc[df[\"First Name\"] == name, \"Event_Source\"] = df.loc[df[\"First Name\"] == name, \"Event_Source\"].fillna(top_event_sources)\n",
    "    else:\n",
    "        # Handle cases where there are no Event_Source available\n",
    "        \n",
    "        df.loc[df[\"First Name\"] == name, \"Event_Source\"] = df.loc[df[\"First Name\"] == name, \"Event_Source\"].fillna(\"others\")\n"
   ]
  },
  {
   "cell_type": "code",
   "execution_count": 24,
   "id": "8c3b356f-c939-4477-9a9e-153a353d3702",
   "metadata": {},
   "outputs": [
    {
     "data": {
      "text/plain": [
       "First Name                            0\n",
       "Email ID                              0\n",
       "Quantity                              0\n",
       "Events                                0\n",
       "Attendee Status                       0\n",
       "College Name                          0\n",
       "Event_Source                          0\n",
       "Other_Source                       4444\n",
       "Designation                           0\n",
       "Year of Graduation                    0\n",
       "City                                  0\n",
       "CGPA                                  0\n",
       "Experience with python (Months)       0\n",
       "Family_Income(Lack)                   0\n",
       "Expected salary (Lack)                0\n",
       "Leadership- skills                    0\n",
       "dtype: int64"
      ]
     },
     "execution_count": 24,
     "metadata": {},
     "output_type": "execute_result"
    }
   ],
   "source": [
    "df.isnull().sum() # here i am getting one col which is containing the lot of missing values so deleting it\n"
   ]
  },
  {
   "cell_type": "code",
   "execution_count": 25,
   "id": "c9539836-1181-41b8-addc-239070d40179",
   "metadata": {},
   "outputs": [],
   "source": [
    "df.drop(columns=[\"Other_Source\"], inplace =True)"
   ]
  },
  {
   "cell_type": "code",
   "execution_count": 26,
   "id": "c4e208da-170e-4de1-aebe-fc9dac7685a9",
   "metadata": {},
   "outputs": [],
   "source": [
    "# here i am doing some preprocessing on the top of Family_Income(Lack) col\n",
    "df[\"Family_Income(Lack)\"] = df[\"Family_Income(Lack)\"].str.strip().str.replace(\"lakh\",\"\").str.strip().str.replace(\"+\",\"\").str.strip()"
   ]
  },
  {
   "cell_type": "code",
   "execution_count": 27,
   "id": "53aecad1-3512-49b9-b238-c861c7269097",
   "metadata": {},
   "outputs": [
    {
     "data": {
      "text/plain": [
       "Family_Income(Lack)\n",
       "0-2    4184\n",
       "2-5     187\n",
       "7        80\n",
       "5-7      73\n",
       "Name: count, dtype: int64"
      ]
     },
     "execution_count": 27,
     "metadata": {},
     "output_type": "execute_result"
    }
   ],
   "source": [
    "df[\"Family_Income(Lack)\"].value_counts()"
   ]
  },
  {
   "cell_type": "code",
   "execution_count": 28,
   "id": "c664fe0f-3c85-4b20-bf93-b45a851c5ac9",
   "metadata": {},
   "outputs": [],
   "source": [
    "df[\"Family_Income(Lack)\"] = list(map(lambda x: '7-8' if x == '7' else '5-6' if x == '5' else x, df[\"Family_Income(Lack)\"]))\n"
   ]
  },
  {
   "cell_type": "code",
   "execution_count": 29,
   "id": "9a5b1e7d-2e0c-4515-ae9b-a2ea8a400e9c",
   "metadata": {},
   "outputs": [
    {
     "data": {
      "text/plain": [
       "Family_Income(Lack)\n",
       "0-2    4184\n",
       "2-5     187\n",
       "7-8      80\n",
       "5-7      73\n",
       "Name: count, dtype: int64"
      ]
     },
     "execution_count": 29,
     "metadata": {},
     "output_type": "execute_result"
    }
   ],
   "source": [
    "df[\"Family_Income(Lack)\"].value_counts()"
   ]
  },
  {
   "cell_type": "code",
   "execution_count": 30,
   "id": "ee042fa8-a87d-44d2-baf5-67d7287821f6",
   "metadata": {},
   "outputs": [],
   "source": [
    "df[\"Leadership- skills\"] = df[\"Leadership- skills\"].str.strip()"
   ]
  },
  {
   "cell_type": "code",
   "execution_count": 31,
   "id": "9e7adad5-5703-4f1d-bbef-3ce69ef8464e",
   "metadata": {},
   "outputs": [
    {
     "data": {
      "text/plain": [
       "Leadership- skills\n",
       "no     3031\n",
       "yes    1493\n",
       "Name: count, dtype: int64"
      ]
     },
     "execution_count": 31,
     "metadata": {},
     "output_type": "execute_result"
    }
   ],
   "source": [
    "df[\"Leadership- skills\"].value_counts()"
   ]
  },
  {
   "cell_type": "code",
   "execution_count": 32,
   "id": "91359b6b-29e1-4b33-a86f-f41cd7aebef8",
   "metadata": {},
   "outputs": [
    {
     "data": {
      "text/html": [
       "<div>\n",
       "<style scoped>\n",
       "    .dataframe tbody tr th:only-of-type {\n",
       "        vertical-align: middle;\n",
       "    }\n",
       "\n",
       "    .dataframe tbody tr th {\n",
       "        vertical-align: top;\n",
       "    }\n",
       "\n",
       "    .dataframe thead th {\n",
       "        text-align: right;\n",
       "    }\n",
       "</style>\n",
       "<table border=\"1\" class=\"dataframe\">\n",
       "  <thead>\n",
       "    <tr style=\"text-align: right;\">\n",
       "      <th></th>\n",
       "      <th>First Name</th>\n",
       "      <th>Email ID</th>\n",
       "      <th>Quantity</th>\n",
       "      <th>Events</th>\n",
       "      <th>Attendee Status</th>\n",
       "      <th>College Name</th>\n",
       "      <th>Event_Source</th>\n",
       "      <th>Designation</th>\n",
       "      <th>Year of Graduation</th>\n",
       "      <th>City</th>\n",
       "      <th>CGPA</th>\n",
       "      <th>Experience with python (Months)</th>\n",
       "      <th>Family_Income(Lack)</th>\n",
       "      <th>Expected salary (Lack)</th>\n",
       "      <th>Leadership- skills</th>\n",
       "    </tr>\n",
       "  </thead>\n",
       "  <tbody>\n",
       "    <tr>\n",
       "      <th>0</th>\n",
       "      <td>aniket</td>\n",
       "      <td>aniket@xyz.com</td>\n",
       "      <td>1</td>\n",
       "      <td>art of resume building</td>\n",
       "      <td>attending</td>\n",
       "      <td>d y patil institute of mca and management akur...</td>\n",
       "      <td>email</td>\n",
       "      <td>students</td>\n",
       "      <td>2024</td>\n",
       "      <td>patna</td>\n",
       "      <td>6.7</td>\n",
       "      <td>7</td>\n",
       "      <td>7-8</td>\n",
       "      <td>6</td>\n",
       "      <td>yes</td>\n",
       "    </tr>\n",
       "    <tr>\n",
       "      <th>1</th>\n",
       "      <td>dhanshree</td>\n",
       "      <td>dhanshree@xyz.com</td>\n",
       "      <td>1</td>\n",
       "      <td>art of resume building</td>\n",
       "      <td>attending</td>\n",
       "      <td>ap shah institute of technology</td>\n",
       "      <td>college</td>\n",
       "      <td>students</td>\n",
       "      <td>2024</td>\n",
       "      <td>amravati</td>\n",
       "      <td>8.2</td>\n",
       "      <td>3</td>\n",
       "      <td>0-2</td>\n",
       "      <td>7</td>\n",
       "      <td>no</td>\n",
       "    </tr>\n",
       "    <tr>\n",
       "      <th>2</th>\n",
       "      <td>dhiraj</td>\n",
       "      <td>dhiraj@xyz.com</td>\n",
       "      <td>1</td>\n",
       "      <td>art of resume building</td>\n",
       "      <td>attending</td>\n",
       "      <td>don bosco college of engineering fatorda goa</td>\n",
       "      <td>email</td>\n",
       "      <td>students</td>\n",
       "      <td>2023</td>\n",
       "      <td>kunrool</td>\n",
       "      <td>6.5</td>\n",
       "      <td>4</td>\n",
       "      <td>5-7</td>\n",
       "      <td>7</td>\n",
       "      <td>no</td>\n",
       "    </tr>\n",
       "    <tr>\n",
       "      <th>3</th>\n",
       "      <td>pooja</td>\n",
       "      <td>pooja@xyz.com</td>\n",
       "      <td>1</td>\n",
       "      <td>art of resume building</td>\n",
       "      <td>attending</td>\n",
       "      <td>pillai college of engineering new panvel</td>\n",
       "      <td>email</td>\n",
       "      <td>students</td>\n",
       "      <td>2025</td>\n",
       "      <td>tirupati</td>\n",
       "      <td>8.7</td>\n",
       "      <td>7</td>\n",
       "      <td>2-5</td>\n",
       "      <td>8</td>\n",
       "      <td>no</td>\n",
       "    </tr>\n",
       "    <tr>\n",
       "      <th>4</th>\n",
       "      <td>aayush</td>\n",
       "      <td>aayush@xyz.com</td>\n",
       "      <td>1</td>\n",
       "      <td>art of resume building</td>\n",
       "      <td>attending</td>\n",
       "      <td>st xavier's college</td>\n",
       "      <td>instagram | linkedin | cloud counselage website</td>\n",
       "      <td>students</td>\n",
       "      <td>2024</td>\n",
       "      <td>vijaywada</td>\n",
       "      <td>9.1</td>\n",
       "      <td>3</td>\n",
       "      <td>0-2</td>\n",
       "      <td>10</td>\n",
       "      <td>yes</td>\n",
       "    </tr>\n",
       "  </tbody>\n",
       "</table>\n",
       "</div>"
      ],
      "text/plain": [
       "  First Name           Email ID  Quantity                  Events  \\\n",
       "0     aniket     aniket@xyz.com         1  art of resume building   \n",
       "1  dhanshree  dhanshree@xyz.com         1  art of resume building   \n",
       "2     dhiraj     dhiraj@xyz.com         1  art of resume building   \n",
       "3      pooja      pooja@xyz.com         1  art of resume building   \n",
       "4     aayush     aayush@xyz.com         1  art of resume building   \n",
       "\n",
       "  Attendee Status                                       College Name  \\\n",
       "0       attending  d y patil institute of mca and management akur...   \n",
       "1       attending                   ap shah institute of technology    \n",
       "2       attending       don bosco college of engineering fatorda goa   \n",
       "3       attending           pillai college of engineering new panvel   \n",
       "4       attending                               st xavier's college    \n",
       "\n",
       "                                      Event_Source Designation  \\\n",
       "0                                            email    students   \n",
       "1                                          college    students   \n",
       "2                                            email    students   \n",
       "3                                            email    students   \n",
       "4  instagram | linkedin | cloud counselage website    students   \n",
       "\n",
       "   Year of Graduation       City  CGPA  Experience with python (Months)  \\\n",
       "0                2024      patna   6.7                                7   \n",
       "1                2024   amravati   8.2                                3   \n",
       "2                2023    kunrool   6.5                                4   \n",
       "3                2025   tirupati   8.7                                7   \n",
       "4                2024  vijaywada   9.1                                3   \n",
       "\n",
       "  Family_Income(Lack)  Expected salary (Lack) Leadership- skills  \n",
       "0                 7-8                       6                yes  \n",
       "1                 0-2                       7                 no  \n",
       "2                 5-7                       7                 no  \n",
       "3                 2-5                       8                 no  \n",
       "4                 0-2                      10                yes  "
      ]
     },
     "execution_count": 32,
     "metadata": {},
     "output_type": "execute_result"
    }
   ],
   "source": [
    "df.head()"
   ]
  },
  {
   "cell_type": "code",
   "execution_count": 33,
   "id": "ce419d36-07a3-402e-96a2-72a43fd69ffd",
   "metadata": {},
   "outputs": [
    {
     "data": {
      "text/plain": [
       "First Name                         0\n",
       "Email ID                           0\n",
       "Quantity                           0\n",
       "Events                             0\n",
       "Attendee Status                    0\n",
       "College Name                       0\n",
       "Event_Source                       0\n",
       "Designation                        0\n",
       "Year of Graduation                 0\n",
       "City                               0\n",
       "CGPA                               0\n",
       "Experience with python (Months)    0\n",
       "Family_Income(Lack)                0\n",
       "Expected salary (Lack)             0\n",
       "Leadership- skills                 0\n",
       "dtype: int64"
      ]
     },
     "execution_count": 33,
     "metadata": {},
     "output_type": "execute_result"
    }
   ],
   "source": [
    "df.isnull().sum()"
   ]
  },
  {
   "cell_type": "markdown",
   "id": "14bbdce0-a978-4cde-b67b-bf92dfe51b39",
   "metadata": {},
   "source": [
    "# Preprocessing is done ---------------------------------------->"
   ]
  },
  {
   "cell_type": "markdown",
   "id": "6bc5481c-7e69-4524-afa1-0f65c3e6d2db",
   "metadata": {},
   "source": [
    "## Insights :- "
   ]
  },
  {
   "cell_type": "markdown",
   "id": "1d7db2bf-29c3-4b57-b0c5-f1f92b550f0b",
   "metadata": {},
   "source": [
    "### 1) How many unique students are included in the dataset ?\n",
    "### Ans :- `There are total 4510 Uniue students`"
   ]
  },
  {
   "cell_type": "code",
   "execution_count": 34,
   "id": "085b78c9-e678-4bae-aee8-c64dba0649fb",
   "metadata": {},
   "outputs": [],
   "source": [
    "# here i am dropping duplicates entries on the basis of 2 col \n",
    "final_df = df.drop_duplicates(subset =[\"Email ID\",\"College Name\"])"
   ]
  },
  {
   "cell_type": "code",
   "execution_count": 35,
   "id": "2b577a7a-e2c7-4103-9b58-d07e37090088",
   "metadata": {},
   "outputs": [
    {
     "data": {
      "text/plain": [
       "4510"
      ]
     },
     "execution_count": 35,
     "metadata": {},
     "output_type": "execute_result"
    }
   ],
   "source": [
    "final_df.shape[0]"
   ]
  },
  {
   "cell_type": "markdown",
   "id": "15bd22bd-38af-4ac9-b2d5-63bb1e22b499",
   "metadata": {},
   "source": [
    "### 2) What is the avg GPA of the students \n",
    "### Ans:- Avg GPA of comes aroung `8.04 GPA.`"
   ]
  },
  {
   "cell_type": "code",
   "execution_count": 36,
   "id": "1f8dcdef-191e-404e-85bd-3a31a20193e5",
   "metadata": {},
   "outputs": [
    {
     "data": {
      "text/plain": [
       "8.045188470066519"
      ]
     },
     "execution_count": 36,
     "metadata": {},
     "output_type": "execute_result"
    }
   ],
   "source": [
    "final_df[\"CGPA\"].mean()"
   ]
  },
  {
   "cell_type": "markdown",
   "id": "47c34c79-1646-4136-8033-d0473b67daea",
   "metadata": {},
   "source": [
    "### 3) What is the distribution of the students across different graduation years?\n",
    "### Ans :- Skewness is comming near about 0.32 so roughly we can say it looks like Normal Distribution , Not perfect but roughly we can say"
   ]
  },
  {
   "cell_type": "code",
   "execution_count": 37,
   "id": "c7b5e43a-dc85-45b0-baa5-7f859b41c153",
   "metadata": {},
   "outputs": [
    {
     "data": {
      "text/plain": [
       "<Axes: ylabel='Density'>"
      ]
     },
     "execution_count": 37,
     "metadata": {},
     "output_type": "execute_result"
    },
    {
     "data": {
      "image/png": "[encoded data removed]",
      "text/plain": [
       "<Figure size 640x480 with 1 Axes>"
      ]
     },
     "metadata": {},
     "output_type": "display_data"
    }
   ],
   "source": [
    "final_df[\"Year of Graduation\"].plot(kind ='kde')"
   ]
  },
  {
   "cell_type": "code",
   "execution_count": 38,
   "id": "c0943165-a5b4-4f71-9b8a-ca260cc09cec",
   "metadata": {},
   "outputs": [
    {
     "data": {
      "text/plain": [
       "0.32209420147822465"
      ]
     },
     "execution_count": 38,
     "metadata": {},
     "output_type": "execute_result"
    }
   ],
   "source": [
    "final_df[\"Year of Graduation\"].skew()"
   ]
  },
  {
   "cell_type": "markdown",
   "id": "0892d5f4-f9c7-419c-91f1-c260893e423e",
   "metadata": {},
   "source": [
    "### 4) What is the distribution of the students experience with python programming \n",
    "### Ans :- Skewness is comming near about 0.08 so roughly we can say it looks like Normal Distribution , Not perfect but roughly we can say"
   ]
  },
  {
   "cell_type": "code",
   "execution_count": 39,
   "id": "6bf9c209-100d-48db-b8da-a98defc2b645",
   "metadata": {},
   "outputs": [
    {
     "data": {
      "text/plain": [
       "<Axes: ylabel='Density'>"
      ]
     },
     "execution_count": 39,
     "metadata": {},
     "output_type": "execute_result"
    },
    {
     "data": {
      "image/png": "[encoded data removed]",
      "text/plain": [
       "<Figure size 640x480 with 1 Axes>"
      ]
     },
     "metadata": {},
     "output_type": "display_data"
    }
   ],
   "source": [
    "final_df[\"Experience with python (Months)\"].plot(kind =\"kde\")"
   ]
  },
  {
   "cell_type": "code",
   "execution_count": 40,
   "id": "511da22a-a119-4a59-8c4b-10814c5640b0",
   "metadata": {},
   "outputs": [
    {
     "data": {
      "text/plain": [
       "0.0848817474109236"
      ]
     },
     "execution_count": 40,
     "metadata": {},
     "output_type": "execute_result"
    }
   ],
   "source": [
    "final_df[\"Experience with python (Months)\"].skew()"
   ]
  },
  {
   "cell_type": "markdown",
   "id": "7323fe80-707c-40b8-8c49-83e8d320199a",
   "metadata": {},
   "source": [
    "### 5) What is the avg family income of the student ?\n",
    "### Ans :- Answer is given below "
   ]
  },
  {
   "cell_type": "code",
   "execution_count": 41,
   "id": "d1f899bd-0e27-4820-99b8-b8c199c7e7b9",
   "metadata": {},
   "outputs": [
    {
     "data": {
      "text/plain": [
       "0       7.5\n",
       "1       1.0\n",
       "2       6.0\n",
       "3       3.5\n",
       "4       1.0\n",
       "       ... \n",
       "4889    1.0\n",
       "4890    1.0\n",
       "4891    1.0\n",
       "4892    1.0\n",
       "4893    1.0\n",
       "Name: Family_Income(Lack), Length: 4510, dtype: float64"
      ]
     },
     "execution_count": 41,
     "metadata": {},
     "output_type": "execute_result"
    }
   ],
   "source": [
    "avg_family_income = final_df[\"Family_Income(Lack)\"].apply(lambda x: (int(x.split('-')[0]) + int(x.split('-')[1])) / 2)\n",
    "avg_family_income"
   ]
  },
  {
   "cell_type": "markdown",
   "id": "8ac75ae7-2811-4b2c-bb26-ac60a81ab7ee",
   "metadata": {},
   "source": [
    "### 6) How does the GPA varies among different colleges ?(Show top 5 results only)\n",
    "### Ans :- the answer is given through the graphical representation"
   ]
  },
  {
   "cell_type": "code",
   "execution_count": 42,
   "id": "d59067ef-fe16-4229-bb94-8e309b258dfd",
   "metadata": {},
   "outputs": [
    {
     "data": {
      "text/plain": [
       "College Name\n",
       "thakur institute of management studies, career development & research - [timscdr]    8.175000\n",
       "st xavier's college                                                                  8.164968\n",
       "ap shah institute of technology                                                      8.161538\n",
       "b. k. birla college of arts, science & commerce (autonomous), kalyan                 8.154585\n",
       "vidyalankar institute of technology, mumbai                                          8.131111\n",
       "new horizon institute of technology and management                                   8.095062\n",
       "mit academy of engineering ,alandi                                                   8.087766\n",
       "vishwakarma institute of technology, pune                                            8.086957\n",
       "d y patil institute of mca and management akurdi pune                                8.080769\n",
       "g h raisoni institut of engineering and technology pune                              8.073832\n",
       "kle society's college of bca, rls institute, belagavi                                8.071707\n",
       "wilson college                                                                       8.063500\n",
       "symbiosis institute of technology, pune                                              8.059146\n",
       "don bosco college of engineering fatorda goa                                         8.055063\n",
       "ld college of engineering, ahmedabad, gujarat                                        8.054104\n",
       "pillai college of engineering new panvel                                             8.051282\n",
       "priyadarshini college of engineering, nagpur                                         8.034643\n",
       "late g. n. sapkal college of engineering                                             8.034395\n",
       "others                                                                               8.028571\n",
       "chhattisgarh swami vivekananda technical university teaching department bhilai       8.020301\n",
       "dkte society's textile and engineering institute ichalkaranji                        8.016080\n",
       "silicon institute of technology                                                      7.962595\n",
       "st.francis institute of technology                                                   7.956442\n",
       "government polytechnic gandhinagar                                                   7.939286\n",
       "a. c. patil college of engineering                                                   7.938424\n",
       "adhiyamaan college of engineering                                                    7.937692\n",
       "lokmanya tilak college of engineering koparkhairane navi mumbai                      7.886598\n",
       "s.i.e.s. graduate school of technology, nerul, navi mumbai                           7.868750\n",
       "Name: CGPA, dtype: float64"
      ]
     },
     "execution_count": 42,
     "metadata": {},
     "output_type": "execute_result"
    }
   ],
   "source": [
    "final_df.groupby([\"College Name\"])[\"CGPA\"].mean().sort_values(ascending = False)"
   ]
  },
  {
   "cell_type": "code",
   "execution_count": 43,
   "id": "4e1e046b-afb0-478d-be5b-b2588c81535e",
   "metadata": {},
   "outputs": [
    {
     "data": {
      "image/png": "[encoded data removed]",
      "text/plain": [
       "<Figure size 1500x500 with 1 Axes>"
      ]
     },
     "metadata": {},
     "output_type": "display_data"
    }
   ],
   "source": [
    "gpa = final_df.groupby([\"College Name\"])[\"CGPA\"].mean().sort_values(ascending = False).head().plot(kind ='line' , figsize =(15,5))\n",
    "plt.xticks(rotation = 90)\n",
    "plt.show()\n"
   ]
  },
  {
   "cell_type": "markdown",
   "id": "09b64de9-b610-4f5c-b0ae-51db33fa90c4",
   "metadata": {},
   "source": [
    "### 7) Are there any outliers in the quantity (number of courses completed) attribute?\n",
    "### Ans :- the quantity attributes contain only one value (i.e 1) so there wont be any outliers in this particular attribute"
   ]
  },
  {
   "cell_type": "code",
   "execution_count": 44,
   "id": "4010f361-22a8-4984-8f3d-15a7e6be9b71",
   "metadata": {},
   "outputs": [
    {
     "data": {
      "text/plain": [
       "Quantity\n",
       "1    4510\n",
       "Name: count, dtype: int64"
      ]
     },
     "execution_count": 44,
     "metadata": {},
     "output_type": "execute_result"
    }
   ],
   "source": [
    "final_df[\"Quantity\"].value_counts()"
   ]
  },
  {
   "cell_type": "markdown",
   "id": "96775b19-5b7d-4eba-bd54-33209b5ffddc",
   "metadata": {},
   "source": [
    "### 8) what is the avg GPA for student from each city ?\n",
    "### Ans :- This answer i have shown in graphs which is drawn below"
   ]
  },
  {
   "cell_type": "code",
   "execution_count": 45,
   "id": "6ce34ae3-4472-4dd4-98dd-921f2eaa3f73",
   "metadata": {},
   "outputs": [
    {
     "data": {
      "text/plain": [
       "City\n",
       "kolhapur     8.592308\n",
       "hasan        8.491667\n",
       "siwan        8.484615\n",
       "gurugram     8.476000\n",
       "sonipat      8.464286\n",
       "               ...   \n",
       "vasai        7.653846\n",
       "panipat      7.615385\n",
       "daman        7.500000\n",
       "rewari       7.392308\n",
       "new delhi    7.276923\n",
       "Name: CGPA, Length: 177, dtype: float64"
      ]
     },
     "execution_count": 45,
     "metadata": {},
     "output_type": "execute_result"
    }
   ],
   "source": [
    "final_df.groupby([\"City\"])[\"CGPA\"].mean().sort_values(ascending = False)"
   ]
  },
  {
   "cell_type": "code",
   "execution_count": 46,
   "id": "c74ffc0d-eba3-445f-9abe-a7ba8751da06",
   "metadata": {},
   "outputs": [
    {
     "data": {
      "image/png": "[encoded data removed]",
      "text/plain": [
       "<Figure size 640x480 with 1 Axes>"
      ]
     },
     "metadata": {},
     "output_type": "display_data"
    }
   ],
   "source": [
    "# here i have shown visualization of only top 5 colleges \n",
    "avg_GPA = final_df.groupby([\"City\"])[\"CGPA\"].mean().sort_values(ascending = False).head().plot(kind ='line')\n",
    "plt.xticks(rotation = 90)\n",
    "plt.title(\"Top 5 avg GPA for student from each city\")\n",
    "plt.show()"
   ]
  },
  {
   "cell_type": "markdown",
   "id": "cadab4aa-1fd4-4b36-abb6-d490e3a2429a",
   "metadata": {},
   "source": [
    "### 9) Can we identify any relation in between family income and GPA\n",
    "### Ans :- You can refer the graph "
   ]
  },
  {
   "cell_type": "code",
   "execution_count": 47,
   "id": "0e135a28-a1e0-408b-9f4c-af70969bbbe3",
   "metadata": {},
   "outputs": [
    {
     "data": {
      "text/plain": [
       "Family_Income(Lack)\n",
       "0-2    8.039583\n",
       "2-5    8.118717\n",
       "5-7    7.983333\n",
       "7-8    8.221250\n",
       "Name: CGPA, dtype: float64"
      ]
     },
     "execution_count": 47,
     "metadata": {},
     "output_type": "execute_result"
    }
   ],
   "source": [
    "final_df.groupby(\"Family_Income(Lack)\")[\"CGPA\"].mean()"
   ]
  },
  {
   "cell_type": "code",
   "execution_count": 48,
   "id": "c1458f3d-d2e2-4c90-bd89-441404e11353",
   "metadata": {},
   "outputs": [
    {
     "data": {
      "text/plain": [
       "Text(0.5, 1.0, 'Relation in between family income and GPA')"
      ]
     },
     "execution_count": 48,
     "metadata": {},
     "output_type": "execute_result"
    },
    {
     "data": {
      "image/png": "[encoded data removed]",
      "text/plain": [
       "<Figure size 640x480 with 1 Axes>"
      ]
     },
     "metadata": {},
     "output_type": "display_data"
    }
   ],
   "source": [
    "final_df.groupby(\"Family_Income(Lack)\")[\"CGPA\"].mean().plot(kind = \"line\")\n",
    "plt.ylabel(\"CGPA\")\n",
    "plt.title(\"Relation in between family income and GPA\")"
   ]
  },
  {
   "cell_type": "markdown",
   "id": "52e92eac-75bd-4ed9-a46f-b3f222836922",
   "metadata": {},
   "source": [
    "### Conclusion :-\n",
    "### 1) if family income is in between the range of 0-2 to 2-5 then the CGPA is increasing .\n",
    "### 2) if it is in range 2-5 to 5-7 then the CGPA is decreasing \n",
    "### 3) if the family income is the range of 5-7 then CGPA is increasing "
   ]
  },
  {
   "cell_type": "markdown",
   "id": "73c6b5b2-5f86-4de1-9908-55514d5632b4",
   "metadata": {},
   "source": [
    "# `Moderate questions` :- "
   ]
  },
  {
   "cell_type": "markdown",
   "id": "c170485c-ca68-4a9d-93e3-2099282ce4b2",
   "metadata": {},
   "source": [
    "### 10) How many students from various cities ? (Solve using data visualization tool)\n",
    "### Ans :- See the graph"
   ]
  },
  {
   "cell_type": "code",
   "execution_count": 49,
   "id": "fff34afd-760a-46fd-8d1a-8468594c5749",
   "metadata": {},
   "outputs": [
    {
     "data": {
      "text/plain": [
       "City\n",
       "talmuk        53\n",
       "chandigarh    53\n",
       "gonda         52\n",
       "bikaner       51\n",
       "siuri         51\n",
       "              ..\n",
       "punch         12\n",
       "doda          12\n",
       "ulhasnagar    12\n",
       "kolar         11\n",
       "amravati       5\n",
       "Name: count, Length: 177, dtype: int64"
      ]
     },
     "execution_count": 49,
     "metadata": {},
     "output_type": "execute_result"
    }
   ],
   "source": [
    "final_df[\"City\"].value_counts()"
   ]
  },
  {
   "cell_type": "code",
   "execution_count": 50,
   "id": "2912977b-b4c1-4a20-a197-b3ead7458bcc",
   "metadata": {},
   "outputs": [
    {
     "data": {
      "text/plain": [
       "<Axes: xlabel='City'>"
      ]
     },
     "execution_count": 50,
     "metadata": {},
     "output_type": "execute_result"
    },
    {
     "data": {
      "image/png": "[encoded data removed]",
      "text/plain": [
       "<Figure size 1500x500 with 1 Axes>"
      ]
     },
     "metadata": {},
     "output_type": "display_data"
    }
   ],
   "source": [
    "final_df[\"City\"].value_counts().plot(kind ='line' , figsize = (15 ,5))"
   ]
  },
  {
   "cell_type": "markdown",
   "id": "cf68adbf-3759-4cb1-acac-9029980e7227",
   "metadata": {},
   "source": [
    "### 11) HOw does the expected salary varies  based on factors like \"GPA\" , \"Family_Income\" & \"Experience with python (months)\"\n",
    "### Ans :- See the graphical representation"
   ]
  },
  {
   "cell_type": "code",
   "execution_count": 51,
   "id": "d6beea7e-019e-4db9-8adb-30639e503a50",
   "metadata": {},
   "outputs": [
    {
     "data": {
      "text/plain": [
       "Text(0.5, 1.0, 'Relatioin in between Salary and Experience in python')"
      ]
     },
     "execution_count": 51,
     "metadata": {},
     "output_type": "execute_result"
    },
    {
     "data": {
      "image/png": "[encoded data removed]",
      "text/plain": [
       "<Figure size 1500x500 with 3 Axes>"
      ]
     },
     "metadata": {},
     "output_type": "display_data"
    }
   ],
   "source": [
    "plt.figure(figsize=(15,5))\n",
    "\n",
    "plt.subplot(1,3,1)\n",
    "final_df.groupby(\"Expected salary (Lack)\")[\"CGPA\"].mean().plot(kind = 'line')\n",
    "plt.ylabel(\"GPA\")\n",
    "plt.title(\"Relatioin in between Salary and GPA\")\n",
    "\n",
    "plt.subplot(1,3,2)\n",
    "final_df.groupby(\"Family_Income(Lack)\")[\"Expected salary (Lack)\"].mean().plot(kind = \"line\")\n",
    "plt.ylabel(\"Expected salary (Lack)\")\n",
    "plt.title(\"Relatioin in between Salary and Family income\")\n",
    "\n",
    "plt.subplot(1,3,3)\n",
    "final_df.groupby(\"Experience with python (Months)\")[\"Expected salary (Lack)\"].mean().plot(kind = 'line')\n",
    "plt.ylabel(\"Expected salary (Lack)\")\n",
    "plt.title(\"Relatioin in between Salary and Experience in python\")"
   ]
  },
  {
   "cell_type": "markdown",
   "id": "947bb3dc-02c1-4178-b16f-bf4b99e0476c",
   "metadata": {},
   "source": [
    "### 12) Which event tend to attract more students from specific fields of study \n",
    "### Ans :- See  the graph"
   ]
  },
  {
   "cell_type": "code",
   "execution_count": 52,
   "id": "5e74d373-b3a2-4fe3-8864-93c963c8c9a0",
   "metadata": {},
   "outputs": [
    {
     "data": {
      "text/plain": [
       "<Axes: xlabel='Events'>"
      ]
     },
     "execution_count": 52,
     "metadata": {},
     "output_type": "execute_result"
    },
    {
     "data": {
      "image/png": "[encoded data removed]",
      "text/plain": [
       "<Figure size 640x480 with 1 Axes>"
      ]
     },
     "metadata": {},
     "output_type": "display_data"
    }
   ],
   "source": [
    "final_df[\"Events\"].value_counts().plot(kind = 'bar')"
   ]
  },
  {
   "cell_type": "markdown",
   "id": "6aa7bd2c-4d70-46c9-8584-612efb4c0e8d",
   "metadata": {},
   "source": [
    "### 13) Do students in leadership positions during their college years tends to have higher GPAs or better expected salary ?\n",
    "### Ans :- See graph"
   ]
  },
  {
   "cell_type": "code",
   "execution_count": 53,
   "id": "89f94d74-8462-4113-9f19-ee1b0cca02c7",
   "metadata": {},
   "outputs": [
    {
     "name": "stdout",
     "output_type": "stream",
     "text": [
      "Average GPA for leadership positions: 8.04133064516129\n",
      "Average GPA for non-leadership positions: 8.047088021178027\n",
      "Average expected salary for leadership positions: 13.978494623655914\n",
      "Average expected salary for non-leadership positions: 13.91826604897419\n"
     ]
    },
    {
     "data": {
      "image/png": "[encoded data removed]",
      "text/plain": [
       "<Figure size 1500x500 with 2 Axes>"
      ]
     },
     "metadata": {},
     "output_type": "display_data"
    }
   ],
   "source": [
    "# Separate data based on leadership\n",
    "leadership_yes = final_df[final_df['Leadership- skills'] == 'yes']\n",
    "leadership_no = final_df[final_df['Leadership- skills'] == 'no']\n",
    "\n",
    "# Calculate averages\n",
    "avg_gpa_yes = leadership_yes['CGPA'].mean()\n",
    "avg_gpa_no = leadership_no['CGPA'].mean()\n",
    "avg_salary_yes = leadership_yes['Expected salary (Lack)'].mean()\n",
    "avg_salary_no = leadership_no['Expected salary (Lack)'].mean()\n",
    "\n",
    "# Print averages\n",
    "print(f\"Average GPA for leadership positions: {avg_gpa_yes}\")\n",
    "print(f\"Average GPA for non-leadership positions: {avg_gpa_no}\")\n",
    "print(f\"Average expected salary for leadership positions: {avg_salary_yes}\")\n",
    "print(f\"Average expected salary for non-leadership positions: {avg_salary_no}\")\n",
    "\n",
    "# Visualization\n",
    "# Bar plot for GPA\n",
    "plt.figure(figsize=(15, 5))\n",
    "\n",
    "plt.subplot(1, 2, 1)\n",
    "plt.bar(['Leadership', 'No Leadership'], [avg_gpa_yes, avg_gpa_no], color=['blue', 'orange'])\n",
    "plt.title('Average GPA by Leadership Position')\n",
    "plt.ylabel('Average GPA')\n",
    "\n",
    "# Bar plot for Expected Salary\n",
    "plt.subplot(1, 2, 2)\n",
    "plt.bar(['Leadership', 'No Leadership'], [avg_salary_yes, avg_salary_no], color=['blue', 'orange'])\n",
    "plt.title('Average Expected Salary (Lakh) by Leadership Position')\n",
    "plt.ylabel('Average Expected Salary (Lakh)')\n",
    "\n",
    "plt.show()\n"
   ]
  },
  {
   "cell_type": "markdown",
   "id": "9d8af424-a986-463c-8f60-4db47cd7cb16",
   "metadata": {},
   "source": [
    "#### it is clearly showing that Avg_GPA and Avg_Expected_salary doesnot depend on the leadership skills"
   ]
  },
  {
   "cell_type": "markdown",
   "id": "596ddb3f-8c8a-4132-adfa-005acae1a2ec",
   "metadata": {},
   "source": [
    "### 14) How many students are graduating by the end of 2024?\n",
    "### Ans :- `2810` students graduating by the end of 2024"
   ]
  },
  {
   "cell_type": "code",
   "execution_count": 54,
   "id": "350fbea5-dcba-4ea8-8d3e-07c13d915ef7",
   "metadata": {},
   "outputs": [
    {
     "data": {
      "text/plain": [
       "Year of Graduation\n",
       "2023    1419\n",
       "2024    1391\n",
       "2025    1191\n",
       "2026     509\n",
       "Name: count, dtype: int64"
      ]
     },
     "execution_count": 54,
     "metadata": {},
     "output_type": "execute_result"
    }
   ],
   "source": [
    "final_df['Year of Graduation'].value_counts()"
   ]
  },
  {
   "cell_type": "code",
   "execution_count": 55,
   "id": "eab51512-3a6c-4afb-83b0-39bad7359c34",
   "metadata": {},
   "outputs": [
    {
     "name": "stdout",
     "output_type": "stream",
     "text": [
      "Number of students graduating by the end of 2024: 2810\n"
     ]
    }
   ],
   "source": [
    "students_graduating_by_2024 = final_df['Year of Graduation'].isin([2023, 2024]).sum()\n",
    "\n",
    "print(f\"Number of students graduating by the end of 2024: {students_graduating_by_2024}\")\n"
   ]
  },
  {
   "cell_type": "markdown",
   "id": "6cb4bf2a-282c-4e90-8209-2e8d79851c40",
   "metadata": {},
   "source": [
    "### 15) which promotion channel brings it more students participations for the event \n",
    "### Ans :- `Whatsapp` Promotion channel brings it more students participations for the event "
   ]
  },
  {
   "cell_type": "markdown",
   "id": "8d3f0bf3-1055-4ed8-8df6-afe69304c6f4",
   "metadata": {},
   "source": [
    "## Approach :-"
   ]
  },
  {
   "cell_type": "raw",
   "id": "37241169-91c9-4ab4-ad78-cbf2bad8c01a",
   "metadata": {},
   "source": [
    "#### here in this question at some places there was multiple channels in a single row so i am calculating the count of all the seperated channels into it's respective channel \n",
    "for e.g :- if we have data like below \n",
    "\n",
    "'youtube | whatsapp | email',\n",
    " 'whatsapp',\n",
    " 'whatsapp',\n",
    " 'whatsapp',\n",
    " 'whatsapp',\n",
    " 'facebook',\n",
    " 'whatsapp',\n",
    " 'instagram | linkedin | cloud counselage website'\n",
    "\n",
    "# Output :- \n",
    "EVent_Source     | Count \n",
    "whatsapp         | 6\n",
    "Youtube          | 1\n",
    "email            | 1\n",
    "Facebook         | 1\n",
    "instagram        | 1\n",
    "Linkedin         | 1\n",
    "cloud counselage website  |1\n",
    "\n",
    "\n",
    "this is how i reached out my final solution and the code for the same is given below"
   ]
  },
  {
   "cell_type": "code",
   "execution_count": 56,
   "id": "8dc43f3a-afd3-452e-bdc4-a84d9fa91ee1",
   "metadata": {},
   "outputs": [
    {
     "data": {
      "text/html": [
       "<div>\n",
       "<style scoped>\n",
       "    .dataframe tbody tr th:only-of-type {\n",
       "        vertical-align: middle;\n",
       "    }\n",
       "\n",
       "    .dataframe tbody tr th {\n",
       "        vertical-align: top;\n",
       "    }\n",
       "\n",
       "    .dataframe thead th {\n",
       "        text-align: right;\n",
       "    }\n",
       "</style>\n",
       "<table border=\"1\" class=\"dataframe\">\n",
       "  <thead>\n",
       "    <tr style=\"text-align: right;\">\n",
       "      <th></th>\n",
       "      <th>First Name</th>\n",
       "      <th>Email ID</th>\n",
       "      <th>Quantity</th>\n",
       "      <th>Events</th>\n",
       "      <th>Attendee Status</th>\n",
       "      <th>College Name</th>\n",
       "      <th>Event_Source</th>\n",
       "      <th>Designation</th>\n",
       "      <th>Year of Graduation</th>\n",
       "      <th>City</th>\n",
       "      <th>CGPA</th>\n",
       "      <th>Experience with python (Months)</th>\n",
       "      <th>Family_Income(Lack)</th>\n",
       "      <th>Expected salary (Lack)</th>\n",
       "      <th>Leadership- skills</th>\n",
       "    </tr>\n",
       "  </thead>\n",
       "  <tbody>\n",
       "    <tr>\n",
       "      <th>649</th>\n",
       "      <td>nitin</td>\n",
       "      <td>nitin@xyz.com</td>\n",
       "      <td>1</td>\n",
       "      <td>artificial intelligence</td>\n",
       "      <td>attending</td>\n",
       "      <td>pillai college of engineering new panvel</td>\n",
       "      <td>others</td>\n",
       "      <td>students</td>\n",
       "      <td>2025</td>\n",
       "      <td>durgapur</td>\n",
       "      <td>7.1</td>\n",
       "      <td>7</td>\n",
       "      <td>0-2</td>\n",
       "      <td>9</td>\n",
       "      <td>yes</td>\n",
       "    </tr>\n",
       "    <tr>\n",
       "      <th>666</th>\n",
       "      <td>shilpa</td>\n",
       "      <td>shilpa@xyz.com</td>\n",
       "      <td>1</td>\n",
       "      <td>artificial intelligence</td>\n",
       "      <td>attending</td>\n",
       "      <td>dkte society's textile and engineering institu...</td>\n",
       "      <td>others</td>\n",
       "      <td>students</td>\n",
       "      <td>2024</td>\n",
       "      <td>mumbai</td>\n",
       "      <td>8.6</td>\n",
       "      <td>4</td>\n",
       "      <td>0-2</td>\n",
       "      <td>17</td>\n",
       "      <td>no</td>\n",
       "    </tr>\n",
       "    <tr>\n",
       "      <th>668</th>\n",
       "      <td>abhijeet</td>\n",
       "      <td>abhijeet@xyz.com</td>\n",
       "      <td>1</td>\n",
       "      <td>artificial intelligence</td>\n",
       "      <td>attending</td>\n",
       "      <td>g h raisoni institut of engineering and techno...</td>\n",
       "      <td>others</td>\n",
       "      <td>students</td>\n",
       "      <td>2025</td>\n",
       "      <td>nanded</td>\n",
       "      <td>7.8</td>\n",
       "      <td>7</td>\n",
       "      <td>0-2</td>\n",
       "      <td>21</td>\n",
       "      <td>yes</td>\n",
       "    </tr>\n",
       "    <tr>\n",
       "      <th>719</th>\n",
       "      <td>apoorva</td>\n",
       "      <td>apoorva@xyz.com</td>\n",
       "      <td>1</td>\n",
       "      <td>hello ml and dl</td>\n",
       "      <td>attending</td>\n",
       "      <td>vishwakarma institute of technology, pune</td>\n",
       "      <td>others</td>\n",
       "      <td>students</td>\n",
       "      <td>2024</td>\n",
       "      <td>rajkot</td>\n",
       "      <td>7.3</td>\n",
       "      <td>5</td>\n",
       "      <td>0-2</td>\n",
       "      <td>23</td>\n",
       "      <td>no</td>\n",
       "    </tr>\n",
       "    <tr>\n",
       "      <th>746</th>\n",
       "      <td>austin</td>\n",
       "      <td>austin@xyz.com</td>\n",
       "      <td>1</td>\n",
       "      <td>hello ml and dl</td>\n",
       "      <td>attending</td>\n",
       "      <td>st.francis institute of technology</td>\n",
       "      <td>others</td>\n",
       "      <td>students</td>\n",
       "      <td>2024</td>\n",
       "      <td>thrissur</td>\n",
       "      <td>7.9</td>\n",
       "      <td>4</td>\n",
       "      <td>0-2</td>\n",
       "      <td>9</td>\n",
       "      <td>yes</td>\n",
       "    </tr>\n",
       "    <tr>\n",
       "      <th>...</th>\n",
       "      <td>...</td>\n",
       "      <td>...</td>\n",
       "      <td>...</td>\n",
       "      <td>...</td>\n",
       "      <td>...</td>\n",
       "      <td>...</td>\n",
       "      <td>...</td>\n",
       "      <td>...</td>\n",
       "      <td>...</td>\n",
       "      <td>...</td>\n",
       "      <td>...</td>\n",
       "      <td>...</td>\n",
       "      <td>...</td>\n",
       "      <td>...</td>\n",
       "      <td>...</td>\n",
       "    </tr>\n",
       "    <tr>\n",
       "      <th>4884</th>\n",
       "      <td>ranpura</td>\n",
       "      <td>ranpura@xyz.com</td>\n",
       "      <td>1</td>\n",
       "      <td>the sdlc &amp; their transformations</td>\n",
       "      <td>attending</td>\n",
       "      <td>vishwakarma institute of technology, pune</td>\n",
       "      <td>others</td>\n",
       "      <td>students</td>\n",
       "      <td>2024</td>\n",
       "      <td>baleshwar</td>\n",
       "      <td>7.7</td>\n",
       "      <td>3</td>\n",
       "      <td>7-8</td>\n",
       "      <td>5</td>\n",
       "      <td>no</td>\n",
       "    </tr>\n",
       "    <tr>\n",
       "      <th>4890</th>\n",
       "      <td>vidit</td>\n",
       "      <td>vidit@xyz.com</td>\n",
       "      <td>1</td>\n",
       "      <td>data visualization using power bi</td>\n",
       "      <td>attending</td>\n",
       "      <td>government polytechnic gandhinagar</td>\n",
       "      <td>others</td>\n",
       "      <td>students</td>\n",
       "      <td>2023</td>\n",
       "      <td>jalgaon</td>\n",
       "      <td>6.5</td>\n",
       "      <td>6</td>\n",
       "      <td>0-2</td>\n",
       "      <td>8</td>\n",
       "      <td>no</td>\n",
       "    </tr>\n",
       "    <tr>\n",
       "      <th>4891</th>\n",
       "      <td>suryaprakash</td>\n",
       "      <td>suryaprakash@xyz.com</td>\n",
       "      <td>1</td>\n",
       "      <td>data visualization using power bi</td>\n",
       "      <td>attending</td>\n",
       "      <td>vishwakarma institute of technology, pune</td>\n",
       "      <td>others</td>\n",
       "      <td>students</td>\n",
       "      <td>2024</td>\n",
       "      <td>thane</td>\n",
       "      <td>6.9</td>\n",
       "      <td>5</td>\n",
       "      <td>0-2</td>\n",
       "      <td>7</td>\n",
       "      <td>no</td>\n",
       "    </tr>\n",
       "    <tr>\n",
       "      <th>4892</th>\n",
       "      <td>saif ali</td>\n",
       "      <td>saifali@xyz.com</td>\n",
       "      <td>1</td>\n",
       "      <td>data visualization using power bi</td>\n",
       "      <td>attending</td>\n",
       "      <td>mit academy of engineering ,alandi</td>\n",
       "      <td>others</td>\n",
       "      <td>students</td>\n",
       "      <td>2024</td>\n",
       "      <td>patiala</td>\n",
       "      <td>9.0</td>\n",
       "      <td>3</td>\n",
       "      <td>0-2</td>\n",
       "      <td>23</td>\n",
       "      <td>yes</td>\n",
       "    </tr>\n",
       "    <tr>\n",
       "      <th>4893</th>\n",
       "      <td>lankesh</td>\n",
       "      <td>lankesh@xyz.com</td>\n",
       "      <td>1</td>\n",
       "      <td>data visualization using power bi</td>\n",
       "      <td>attending</td>\n",
       "      <td>a. c. patil college of engineering</td>\n",
       "      <td>others</td>\n",
       "      <td>students</td>\n",
       "      <td>2025</td>\n",
       "      <td>sangrur</td>\n",
       "      <td>7.2</td>\n",
       "      <td>8</td>\n",
       "      <td>0-2</td>\n",
       "      <td>9</td>\n",
       "      <td>yes</td>\n",
       "    </tr>\n",
       "  </tbody>\n",
       "</table>\n",
       "<p>989 rows × 15 columns</p>\n",
       "</div>"
      ],
      "text/plain": [
       "        First Name              Email ID  Quantity  \\\n",
       "649          nitin         nitin@xyz.com         1   \n",
       "666         shilpa        shilpa@xyz.com         1   \n",
       "668      abhijeet       abhijeet@xyz.com         1   \n",
       "719       apoorva        apoorva@xyz.com         1   \n",
       "746         austin        austin@xyz.com         1   \n",
       "...            ...                   ...       ...   \n",
       "4884       ranpura       ranpura@xyz.com         1   \n",
       "4890         vidit         vidit@xyz.com         1   \n",
       "4891  suryaprakash  suryaprakash@xyz.com         1   \n",
       "4892      saif ali       saifali@xyz.com         1   \n",
       "4893       lankesh       lankesh@xyz.com         1   \n",
       "\n",
       "                                 Events Attendee Status  \\\n",
       "649             artificial intelligence       attending   \n",
       "666             artificial intelligence       attending   \n",
       "668             artificial intelligence       attending   \n",
       "719                     hello ml and dl       attending   \n",
       "746                     hello ml and dl       attending   \n",
       "...                                 ...             ...   \n",
       "4884   the sdlc & their transformations       attending   \n",
       "4890  data visualization using power bi       attending   \n",
       "4891  data visualization using power bi       attending   \n",
       "4892  data visualization using power bi       attending   \n",
       "4893  data visualization using power bi       attending   \n",
       "\n",
       "                                           College Name Event_Source  \\\n",
       "649            pillai college of engineering new panvel       others   \n",
       "666   dkte society's textile and engineering institu...       others   \n",
       "668   g h raisoni institut of engineering and techno...       others   \n",
       "719           vishwakarma institute of technology, pune       others   \n",
       "746                  st.francis institute of technology       others   \n",
       "...                                                 ...          ...   \n",
       "4884          vishwakarma institute of technology, pune       others   \n",
       "4890                 government polytechnic gandhinagar       others   \n",
       "4891          vishwakarma institute of technology, pune       others   \n",
       "4892                 mit academy of engineering ,alandi       others   \n",
       "4893                 a. c. patil college of engineering       others   \n",
       "\n",
       "     Designation  Year of Graduation       City  CGPA  \\\n",
       "649     students                2025   durgapur   7.1   \n",
       "666     students                2024     mumbai   8.6   \n",
       "668     students                2025     nanded   7.8   \n",
       "719     students                2024     rajkot   7.3   \n",
       "746     students                2024   thrissur   7.9   \n",
       "...          ...                 ...        ...   ...   \n",
       "4884    students                2024  baleshwar   7.7   \n",
       "4890    students                2023    jalgaon   6.5   \n",
       "4891    students                2024      thane   6.9   \n",
       "4892    students                2024    patiala   9.0   \n",
       "4893    students                2025    sangrur   7.2   \n",
       "\n",
       "      Experience with python (Months) Family_Income(Lack)  \\\n",
       "649                                 7                 0-2   \n",
       "666                                 4                 0-2   \n",
       "668                                 7                 0-2   \n",
       "719                                 5                 0-2   \n",
       "746                                 4                 0-2   \n",
       "...                               ...                 ...   \n",
       "4884                                3                 7-8   \n",
       "4890                                6                 0-2   \n",
       "4891                                5                 0-2   \n",
       "4892                                3                 0-2   \n",
       "4893                                8                 0-2   \n",
       "\n",
       "      Expected salary (Lack) Leadership- skills  \n",
       "649                        9                yes  \n",
       "666                       17                 no  \n",
       "668                       21                yes  \n",
       "719                       23                 no  \n",
       "746                        9                yes  \n",
       "...                      ...                ...  \n",
       "4884                       5                 no  \n",
       "4890                       8                 no  \n",
       "4891                       7                 no  \n",
       "4892                      23                yes  \n",
       "4893                       9                yes  \n",
       "\n",
       "[989 rows x 15 columns]"
      ]
     },
     "execution_count": 56,
     "metadata": {},
     "output_type": "execute_result"
    }
   ],
   "source": [
    "event_source_df = final_df[final_df[\"Event_Source\"]==\"others\"]\n",
    "event_source_df"
   ]
  },
  {
   "cell_type": "code",
   "execution_count": 57,
   "id": "b5ddca55-7055-48ce-871d-833cf44c7a80",
   "metadata": {},
   "outputs": [],
   "source": [
    "# this code is for to fill values but i wanna replace others value with the new promotion channel change code accordingly\n",
    "names_of_students = event_source_df[\"First Name\"].values.tolist()\n",
    "\n",
    "for name in names_of_students:\n",
    "    # Create a temporary dataframe for each first name\n",
    "    temp_df = final_df[final_df[\"First Name\"] == name]\n",
    "    \n",
    "    # Check if there are any college names available\n",
    "    if not temp_df[\"Event_Source\"].dropna().empty:\n",
    "        # Get the most frequent college name\n",
    "        top_event_sources = temp_df[\"Event_Source\"].value_counts().idxmax()\n",
    "        \n",
    "        # Fill missing values in the College Name column with the most frequent college name\n",
    "        final_df.loc[final_df[\"First Name\"] == name, \"Event_Source\"] = final_df.loc[final_df[\"First Name\"] == name, \"Event_Source\"].fillna(top_event_sources)\n",
    "    else:\n",
    "        # Handle cases where there are no college names available\n",
    "        \n",
    "        df.loc[df[\"First Name\"] == name, \"Event_Source\"] = df.loc[df[\"First Name\"] == name, \"Event_Source\"].fillna(\"others\")\n"
   ]
  },
  {
   "cell_type": "code",
   "execution_count": 58,
   "id": "ce56a144-4dfb-46e9-b4bf-cbc1c5282a12",
   "metadata": {},
   "outputs": [
    {
     "data": {
      "text/plain": [
       "['email',\n",
       " 'college',\n",
       " 'email',\n",
       " 'email',\n",
       " 'instagram | linkedin | cloud counselage website',\n",
       " 'whatsapp',\n",
       " 'whatsapp',\n",
       " 'whatsapp',\n",
       " 'college',\n",
       " 'whatsapp',\n",
       " 'email',\n",
       " 'whatsapp',\n",
       " 'whatsapp',\n",
       " 'linkedin',\n",
       " 'whatsapp',\n",
       " 'whatsapp',\n",
       " 'cloud counselage website',\n",
       " 'whatsapp',\n",
       " 'college',\n",
       " 'whatsapp',\n",
       " 'college',\n",
       " 'whatsapp',\n",
       " 'instagram | whatsapp | email',\n",
       " 'whatsapp',\n",
       " 'whatsapp',\n",
       " 'whatsapp',\n",
       " 'youtube',\n",
       " 'whatsapp | others',\n",
       " 'whatsapp',\n",
       " 'whatsapp',\n",
       " 'whatsapp',\n",
       " 'whatsapp',\n",
       " 'whatsapp',\n",
       " 'instagram | whatsapp',\n",
       " 'youtube | whatsapp | email',\n",
       " 'whatsapp',\n",
       " 'whatsapp',\n",
       " 'whatsapp',\n",
       " 'whatsapp',\n",
       " 'facebook',\n",
       " 'whatsapp',\n",
       " 'instagram | linkedin | cloud counselage website',\n",
       " 'whatsapp',\n",
       " 'whatsapp',\n",
       " 'whatsapp',\n",
       " 'college',\n",
       " 'whatsapp',\n",
       " 'email',\n",
       " 'whatsapp',\n",
       " 'whatsapp',\n",
       " 'linkedin',\n",
       " 'whatsapp',\n",
       " 'friends',\n",
       " 'college',\n",
       " 'whatsapp',\n",
       " 'whatsapp',\n",
       " 'whatsapp',\n",
       " 'linkedin',\n",
       " 'whatsapp',\n",
       " 'whatsapp',\n",
       " 'email',\n",
       " 'whatsapp | others',\n",
       " 'youtube | facebook | instagram | linkedin | whatsapp | email',\n",
       " 'whatsapp',\n",
       " 'whatsapp',\n",
       " 'college',\n",
       " 'email',\n",
       " 'college',\n",
       " 'college',\n",
       " 'whatsapp',\n",
       " 'facebook',\n",
       " 'whatsapp',\n",
       " 'whatsapp',\n",
       " 'whatsapp',\n",
       " 'whatsapp',\n",
       " 'email',\n",
       " 'cloud counselage website',\n",
       " 'whatsapp',\n",
       " 'email',\n",
       " 'whatsapp',\n",
       " 'whatsapp',\n",
       " 'college',\n",
       " 'college',\n",
       " 'college',\n",
       " 'linkedin',\n",
       " 'instagram | email',\n",
       " 'whatsapp',\n",
       " 'whatsapp',\n",
       " 'whatsapp',\n",
       " 'whatsapp',\n",
       " 'whatsapp',\n",
       " 'whatsapp',\n",
       " 'whatsapp',\n",
       " 'email',\n",
       " 'cloud counselage website',\n",
       " 'whatsapp',\n",
       " 'whatsapp',\n",
       " 'cloud counselage website',\n",
       " 'whatsapp',\n",
       " 'whatsapp',\n",
       " 'email',\n",
       " 'whatsapp',\n",
       " 'whatsapp',\n",
       " 'whatsapp',\n",
       " 'whatsapp',\n",
       " 'whatsapp',\n",
       " 'linkedin',\n",
       " 'whatsapp',\n",
       " 'whatsapp',\n",
       " 'email',\n",
       " 'college',\n",
       " 'whatsapp',\n",
       " 'linkedin | email | cloud counselage website',\n",
       " 'youtube | facebook | instagram | whatsapp | email',\n",
       " 'email',\n",
       " 'email',\n",
       " 'email',\n",
       " 'email | others',\n",
       " 'cloud counselage website',\n",
       " 'email',\n",
       " 'whatsapp',\n",
       " 'email',\n",
       " 'whatsapp',\n",
       " 'email',\n",
       " 'whatsapp',\n",
       " 'email',\n",
       " 'whatsapp',\n",
       " 'whatsapp',\n",
       " 'whatsapp',\n",
       " 'whatsapp',\n",
       " 'email',\n",
       " 'linkedin | whatsapp',\n",
       " 'email',\n",
       " 'email',\n",
       " 'email',\n",
       " 'whatsapp',\n",
       " 'college',\n",
       " 'youtube | facebook',\n",
       " 'whatsapp',\n",
       " 'whatsapp',\n",
       " 'college',\n",
       " 'whatsapp',\n",
       " 'whatsapp',\n",
       " 'email',\n",
       " 'whatsapp',\n",
       " 'email',\n",
       " 'whatsapp',\n",
       " 'whatsapp',\n",
       " 'email',\n",
       " 'email | cloud counselage website',\n",
       " 'email',\n",
       " 'email',\n",
       " 'college',\n",
       " 'email',\n",
       " 'email',\n",
       " 'whatsapp',\n",
       " 'whatsapp',\n",
       " 'email',\n",
       " 'whatsapp',\n",
       " 'whatsapp',\n",
       " 'whatsapp',\n",
       " 'whatsapp',\n",
       " 'email',\n",
       " 'email',\n",
       " 'email',\n",
       " 'email',\n",
       " 'facebook',\n",
       " 'whatsapp',\n",
       " 'college',\n",
       " 'cloud counselage website',\n",
       " 'email',\n",
       " 'whatsapp | email',\n",
       " 'whatsapp',\n",
       " 'whatsapp',\n",
       " 'whatsapp',\n",
       " 'whatsapp',\n",
       " 'whatsapp',\n",
       " 'whatsapp',\n",
       " 'whatsapp',\n",
       " 'whatsapp',\n",
       " 'whatsapp',\n",
       " 'whatsapp',\n",
       " 'college',\n",
       " 'whatsapp',\n",
       " 'youtube',\n",
       " 'whatsapp',\n",
       " 'cloud counselage website',\n",
       " 'whatsapp',\n",
       " 'whatsapp',\n",
       " 'cloud counselage website',\n",
       " 'linkedin | email',\n",
       " 'college',\n",
       " 'email',\n",
       " 'whatsapp',\n",
       " 'whatsapp',\n",
       " 'whatsapp',\n",
       " 'whatsapp',\n",
       " 'youtube | email',\n",
       " 'whatsapp',\n",
       " 'college',\n",
       " 'whatsapp',\n",
       " 'youtube | facebook | instagram | linkedin | whatsapp | email | cloud counselage website',\n",
       " 'email',\n",
       " 'whatsapp',\n",
       " 'youtube',\n",
       " 'whatsapp',\n",
       " 'cloud counselage website',\n",
       " 'facebook',\n",
       " 'college',\n",
       " 'college',\n",
       " 'email | cloud counselage website',\n",
       " 'facebook | whatsapp',\n",
       " 'email',\n",
       " 'whatsapp',\n",
       " 'whatsapp',\n",
       " 'email',\n",
       " 'whatsapp',\n",
       " 'email',\n",
       " 'whatsapp',\n",
       " 'whatsapp',\n",
       " 'friends',\n",
       " 'email | cloud counselage website',\n",
       " 'whatsapp',\n",
       " 'whatsapp',\n",
       " 'college',\n",
       " 'youtube | whatsapp',\n",
       " 'college',\n",
       " 'cloud counselage website',\n",
       " 'whatsapp',\n",
       " 'email',\n",
       " 'email',\n",
       " 'whatsapp',\n",
       " 'college',\n",
       " 'whatsapp',\n",
       " 'whatsapp',\n",
       " 'whatsapp',\n",
       " 'whatsapp | others',\n",
       " 'whatsapp',\n",
       " 'youtube | whatsapp',\n",
       " 'youtube | whatsapp | email',\n",
       " 'college',\n",
       " 'whatsapp',\n",
       " 'whatsapp | email',\n",
       " 'whatsapp | others',\n",
       " 'whatsapp',\n",
       " 'youtube | email',\n",
       " 'whatsapp',\n",
       " 'cloud counselage website',\n",
       " 'whatsapp',\n",
       " 'whatsapp',\n",
       " 'whatsapp',\n",
       " 'whatsapp',\n",
       " 'whatsapp',\n",
       " 'whatsapp',\n",
       " 'whatsapp',\n",
       " 'whatsapp',\n",
       " 'whatsapp',\n",
       " 'whatsapp | email',\n",
       " 'whatsapp',\n",
       " 'whatsapp',\n",
       " 'whatsapp',\n",
       " 'whatsapp',\n",
       " 'whatsapp',\n",
       " 'email',\n",
       " 'college',\n",
       " 'college',\n",
       " 'college',\n",
       " 'college',\n",
       " 'whatsapp',\n",
       " 'whatsapp',\n",
       " 'whatsapp',\n",
       " 'whatsapp',\n",
       " 'whatsapp',\n",
       " 'whatsapp',\n",
       " 'whatsapp',\n",
       " 'friends',\n",
       " 'whatsapp',\n",
       " 'whatsapp',\n",
       " 'whatsapp',\n",
       " 'whatsapp',\n",
       " 'whatsapp',\n",
       " 'whatsapp',\n",
       " 'whatsapp',\n",
       " 'email',\n",
       " 'youtube | whatsapp',\n",
       " 'whatsapp',\n",
       " 'whatsapp',\n",
       " 'whatsapp',\n",
       " 'whatsapp',\n",
       " 'youtube | facebook | instagram | linkedin | whatsapp | email | cloud counselage website | others',\n",
       " 'youtube | facebook | instagram | linkedin | whatsapp | email | cloud counselage website | others',\n",
       " 'youtube',\n",
       " 'whatsapp',\n",
       " 'whatsapp',\n",
       " 'facebook',\n",
       " 'whatsapp',\n",
       " 'whatsapp',\n",
       " 'whatsapp',\n",
       " 'facebook',\n",
       " 'whatsapp',\n",
       " 'whatsapp',\n",
       " 'whatsapp',\n",
       " 'whatsapp',\n",
       " 'email',\n",
       " 'telegram',\n",
       " 'youtube | facebook | whatsapp | email',\n",
       " 'whatsapp',\n",
       " 'whatsapp',\n",
       " 'whatsapp',\n",
       " 'email',\n",
       " 'whatsapp',\n",
       " 'whatsapp',\n",
       " 'whatsapp',\n",
       " 'whatsapp',\n",
       " 'whatsapp',\n",
       " 'facebook',\n",
       " 'whatsapp',\n",
       " 'facebook | instagram',\n",
       " 'email',\n",
       " 'college',\n",
       " 'whatsapp',\n",
       " 'whatsapp',\n",
       " 'whatsapp',\n",
       " 'facebook',\n",
       " 'cloud counselage website',\n",
       " 'whatsapp',\n",
       " 'email',\n",
       " 'facebook',\n",
       " 'whatsapp',\n",
       " 'whatsapp',\n",
       " 'whatsapp',\n",
       " 'college',\n",
       " 'cloud counselage website',\n",
       " 'email',\n",
       " 'cloud counselage website',\n",
       " 'email',\n",
       " 'email',\n",
       " 'email',\n",
       " 'email',\n",
       " 'email',\n",
       " 'email',\n",
       " 'email | spoc| college professor',\n",
       " 'spoc| college professor',\n",
       " 'cloud counselage website',\n",
       " 'cloud counselage website | others',\n",
       " 'email',\n",
       " 'email',\n",
       " 'spoc| college professor',\n",
       " 'email',\n",
       " 'whatsapp',\n",
       " 'email | spoc| college professor',\n",
       " 'college',\n",
       " 'email',\n",
       " 'facebook',\n",
       " 'spoc| college professor',\n",
       " 'email',\n",
       " 'email',\n",
       " 'spoc| college professor',\n",
       " 'email',\n",
       " 'email',\n",
       " 'email | cloud counselage website',\n",
       " 'email',\n",
       " 'whatsapp',\n",
       " 'spoc| college professor',\n",
       " 'email',\n",
       " 'email',\n",
       " 'email',\n",
       " 'spoc| college professor',\n",
       " 'spoc| college professor',\n",
       " 'whatsapp',\n",
       " 'whatsapp',\n",
       " 'whatsapp',\n",
       " 'whatsapp',\n",
       " 'whatsapp',\n",
       " 'whatsapp',\n",
       " 'whatsapp | spoc| college professor',\n",
       " 'spoc| college professor',\n",
       " 'whatsapp',\n",
       " 'whatsapp',\n",
       " 'whatsapp',\n",
       " 'spoc| college professor',\n",
       " 'spoc| college professor',\n",
       " 'whatsapp',\n",
       " 'whatsapp',\n",
       " 'whatsapp',\n",
       " 'whatsapp',\n",
       " 'spoc| college professor',\n",
       " 'whatsapp',\n",
       " 'spoc| college professor',\n",
       " 'whatsapp',\n",
       " 'whatsapp',\n",
       " 'whatsapp | spoc| college professor',\n",
       " 'spoc| college professor',\n",
       " 'whatsapp',\n",
       " 'whatsapp',\n",
       " 'whatsapp | spoc| college professor',\n",
       " 'whatsapp',\n",
       " 'whatsapp',\n",
       " 'spoc| college professor',\n",
       " 'whatsapp | spoc| college professor',\n",
       " 'whatsapp',\n",
       " 'whatsapp',\n",
       " 'whatsapp',\n",
       " 'whatsapp',\n",
       " 'whatsapp',\n",
       " 'email',\n",
       " 'whatsapp',\n",
       " 'whatsapp',\n",
       " 'whatsapp',\n",
       " 'whatsapp',\n",
       " 'email',\n",
       " 'whatsapp',\n",
       " 'spoc| college professor',\n",
       " 'whatsapp',\n",
       " 'whatsapp',\n",
       " 'whatsapp',\n",
       " 'whatsapp',\n",
       " 'email',\n",
       " 'whatsapp',\n",
       " 'whatsapp',\n",
       " 'whatsapp',\n",
       " 'spoc| college professor',\n",
       " 'email',\n",
       " 'email | spoc| college professor',\n",
       " 'whatsapp',\n",
       " 'spoc| college professor',\n",
       " 'whatsapp',\n",
       " 'spoc| college professor',\n",
       " 'email',\n",
       " 'whatsapp',\n",
       " 'email',\n",
       " 'whatsapp',\n",
       " 'whatsapp',\n",
       " 'whatsapp',\n",
       " 'spoc| college professor',\n",
       " 'whatsapp',\n",
       " 'instagram | whatsapp',\n",
       " 'whatsapp',\n",
       " 'whatsapp',\n",
       " 'spoc| college professor',\n",
       " 'whatsapp',\n",
       " 'email',\n",
       " 'spoc| college professor',\n",
       " 'spoc| college professor',\n",
       " 'spoc| college professor',\n",
       " 'whatsapp | spoc| college professor',\n",
       " 'email',\n",
       " 'email',\n",
       " 'spoc| college professor',\n",
       " 'spoc| college professor',\n",
       " 'whatsapp | spoc| college professor',\n",
       " 'spoc| college professor',\n",
       " 'whatsapp',\n",
       " 'email',\n",
       " 'whatsapp',\n",
       " 'whatsapp',\n",
       " 'college',\n",
       " 'spoc| college professor',\n",
       " 'email',\n",
       " 'whatsapp',\n",
       " 'whatsapp',\n",
       " 'whatsapp',\n",
       " 'spoc| college professor',\n",
       " 'whatsapp',\n",
       " 'whatsapp',\n",
       " 'spoc| college professor',\n",
       " 'whatsapp',\n",
       " 'whatsapp | spoc| college professor',\n",
       " 'whatsapp',\n",
       " 'email',\n",
       " 'email',\n",
       " 'email | spoc| college professor',\n",
       " 'cloud counselage website',\n",
       " 'email | spoc| college professor',\n",
       " 'whatsapp',\n",
       " 'spoc| college professor',\n",
       " 'spoc| college professor',\n",
       " 'college',\n",
       " 'spoc| college professor',\n",
       " 'email',\n",
       " 'spoc| college professor',\n",
       " 'email | spoc| college professor',\n",
       " 'email',\n",
       " 'email',\n",
       " 'spoc| college professor',\n",
       " 'whatsapp | spoc| college professor',\n",
       " 'spoc| college professor',\n",
       " 'friend| classmate',\n",
       " 'whatsapp',\n",
       " 'email',\n",
       " 'email',\n",
       " 'cloud counselage website',\n",
       " 'email',\n",
       " 'email',\n",
       " 'email',\n",
       " 'email',\n",
       " 'spoc| college professor',\n",
       " 'youtube | facebook | instagram | email | cloud counselage website',\n",
       " 'email',\n",
       " 'email',\n",
       " 'email',\n",
       " 'spoc| college professor',\n",
       " 'spoc| college professor',\n",
       " 'email | spoc| college professor',\n",
       " 'spoc| college professor',\n",
       " 'whatsapp',\n",
       " 'spoc| college professor',\n",
       " 'email | cloud counselage website',\n",
       " 'spoc| college professor',\n",
       " 'whatsapp | cloud counselage website',\n",
       " 'whatsapp',\n",
       " 'whatsapp',\n",
       " 'email',\n",
       " 'email',\n",
       " 'email',\n",
       " 'email',\n",
       " 'spoc| college professor',\n",
       " 'spoc| college professor',\n",
       " 'spoc| college professor',\n",
       " 'email',\n",
       " 'email',\n",
       " 'email',\n",
       " 'whatsapp | telegram',\n",
       " 'facebook',\n",
       " 'email',\n",
       " 'email',\n",
       " 'email',\n",
       " 'cloud counselage website',\n",
       " 'whatsapp',\n",
       " 'whatsapp',\n",
       " 'whatsapp',\n",
       " 'spoc| college professor',\n",
       " 'whatsapp',\n",
       " 'whatsapp | spoc| college professor',\n",
       " 'email',\n",
       " 'spoc| college professor',\n",
       " 'whatsapp',\n",
       " 'whatsapp',\n",
       " 'spoc| college professor',\n",
       " 'spoc| college professor',\n",
       " 'whatsapp',\n",
       " 'whatsapp | email',\n",
       " 'friend| classmate',\n",
       " 'whatsapp',\n",
       " 'whatsapp',\n",
       " 'spoc| college professor',\n",
       " 'email',\n",
       " 'whatsapp',\n",
       " 'whatsapp | spoc| college professor',\n",
       " 'whatsapp',\n",
       " 'spoc| college professor',\n",
       " 'whatsapp | spoc| college professor',\n",
       " 'spoc| college professor',\n",
       " 'youtube | whatsapp | email',\n",
       " 'spoc| college professor',\n",
       " 'whatsapp | email',\n",
       " 'email',\n",
       " 'spoc| college professor',\n",
       " 'email',\n",
       " 'spoc| college professor',\n",
       " 'facebook',\n",
       " 'whatsapp',\n",
       " 'spoc| college professor',\n",
       " 'email',\n",
       " 'youtube | whatsapp',\n",
       " 'email',\n",
       " 'spoc| college professor',\n",
       " 'spoc| college professor',\n",
       " 'spoc| college professor',\n",
       " 'email',\n",
       " 'twitter',\n",
       " 'friend| classmate',\n",
       " 'spoc| college professor',\n",
       " 'cloud counselage website',\n",
       " 'email',\n",
       " 'email',\n",
       " 'spoc| college professor',\n",
       " 'whatsapp',\n",
       " 'spoc| college professor',\n",
       " 'email',\n",
       " 'whatsapp',\n",
       " 'whatsapp | spoc| college professor',\n",
       " 'spoc| college professor',\n",
       " 'whatsapp | spoc| college professor',\n",
       " 'spoc| college professor',\n",
       " 'youtube | whatsapp | email',\n",
       " 'spoc| college professor',\n",
       " 'email',\n",
       " 'whatsapp',\n",
       " 'whatsapp',\n",
       " 'whatsapp',\n",
       " 'whatsapp',\n",
       " 'whatsapp | email',\n",
       " 'linkedin | email',\n",
       " 'email',\n",
       " 'whatsapp',\n",
       " 'whatsapp',\n",
       " 'whatsapp',\n",
       " 'whatsapp',\n",
       " 'cloud counselage website',\n",
       " 'cloud counselage website',\n",
       " 'email',\n",
       " 'email',\n",
       " 'whatsapp',\n",
       " 'whatsapp',\n",
       " 'whatsapp',\n",
       " 'email',\n",
       " 'linkedin | cloud counselage website',\n",
       " 'email | cloud counselage website',\n",
       " 'email',\n",
       " 'whatsapp',\n",
       " 'email',\n",
       " 'whatsapp',\n",
       " 'whatsapp',\n",
       " 'email',\n",
       " 'cloud counselage website',\n",
       " 'cloud counselage website',\n",
       " 'whatsapp',\n",
       " 'whatsapp',\n",
       " 'email',\n",
       " 'whatsapp',\n",
       " 'whatsapp',\n",
       " 'whatsapp',\n",
       " 'others',\n",
       " 'whatsapp',\n",
       " 'whatsapp',\n",
       " 'whatsapp',\n",
       " 'whatsapp',\n",
       " 'whatsapp',\n",
       " 'email',\n",
       " 'whatsapp | others',\n",
       " 'email',\n",
       " 'email',\n",
       " 'email',\n",
       " 'email | others',\n",
       " 'email',\n",
       " 'email | cloud counselage website',\n",
       " 'email',\n",
       " 'others',\n",
       " 'whatsapp',\n",
       " 'others',\n",
       " 'email',\n",
       " 'email',\n",
       " 'email',\n",
       " 'linkedin',\n",
       " 'whatsapp | cloud counselage website',\n",
       " 'whatsapp',\n",
       " 'facebook',\n",
       " 'linkedin | whatsapp',\n",
       " 'email',\n",
       " 'whatsapp',\n",
       " 'whatsapp',\n",
       " 'email',\n",
       " 'email',\n",
       " 'email',\n",
       " 'email',\n",
       " 'whatsapp | email | others',\n",
       " 'email',\n",
       " 'whatsapp',\n",
       " 'whatsapp',\n",
       " 'whatsapp',\n",
       " 'whatsapp',\n",
       " 'whatsapp',\n",
       " 'youtube | facebook | instagram | whatsapp | email',\n",
       " 'whatsapp',\n",
       " 'whatsapp',\n",
       " 'whatsapp',\n",
       " 'whatsapp',\n",
       " 'instagram',\n",
       " 'whatsapp | others',\n",
       " 'whatsapp',\n",
       " 'whatsapp',\n",
       " 'whatsapp',\n",
       " 'whatsapp',\n",
       " 'whatsapp',\n",
       " 'youtube | whatsapp | email',\n",
       " 'whatsapp',\n",
       " 'whatsapp',\n",
       " 'email',\n",
       " 'email',\n",
       " 'email',\n",
       " 'whatsapp',\n",
       " 'email',\n",
       " 'instagram | linkedin | email | cloud counselage website',\n",
       " 'others',\n",
       " 'whatsapp | email',\n",
       " 'whatsapp',\n",
       " 'whatsapp | friend| classmate | spoc| college professor',\n",
       " 'whatsapp',\n",
       " 'email',\n",
       " 'linkedin',\n",
       " 'email',\n",
       " 'whatsapp',\n",
       " 'whatsapp',\n",
       " 'whatsapp',\n",
       " 'youtube | facebook | instagram | whatsapp',\n",
       " 'email',\n",
       " 'whatsapp',\n",
       " 'whatsapp',\n",
       " 'youtube',\n",
       " 'email',\n",
       " 'youtube | whatsapp | email',\n",
       " 'whatsapp',\n",
       " 'whatsapp',\n",
       " 'whatsapp',\n",
       " 'whatsapp',\n",
       " 'whatsapp',\n",
       " 'whatsapp',\n",
       " 'linkedin | email',\n",
       " 'whatsapp',\n",
       " 'email',\n",
       " 'others',\n",
       " 'whatsapp',\n",
       " 'whatsapp',\n",
       " 'whatsapp',\n",
       " 'whatsapp',\n",
       " 'whatsapp',\n",
       " 'email',\n",
       " 'whatsapp',\n",
       " 'whatsapp',\n",
       " 'whatsapp',\n",
       " 'whatsapp',\n",
       " 'whatsapp',\n",
       " 'whatsapp',\n",
       " 'whatsapp',\n",
       " 'youtube | whatsapp | email',\n",
       " 'email',\n",
       " 'youtube',\n",
       " 'whatsapp',\n",
       " 'whatsapp',\n",
       " 'linkedin',\n",
       " 'email',\n",
       " 'whatsapp',\n",
       " 'cloud counselage website',\n",
       " 'whatsapp',\n",
       " 'whatsapp',\n",
       " 'whatsapp',\n",
       " 'whatsapp',\n",
       " 'whatsapp',\n",
       " 'whatsapp',\n",
       " 'cloud counselage website',\n",
       " 'whatsapp',\n",
       " 'facebook',\n",
       " 'whatsapp',\n",
       " 'whatsapp',\n",
       " 'email',\n",
       " 'whatsapp',\n",
       " 'whatsapp | others',\n",
       " 'others',\n",
       " 'whatsapp',\n",
       " 'email | others',\n",
       " 'whatsapp',\n",
       " 'cloud counselage website',\n",
       " 'whatsapp',\n",
       " 'linkedin',\n",
       " 'others',\n",
       " 'cloud counselage website',\n",
       " 'linkedin',\n",
       " 'email',\n",
       " 'whatsapp',\n",
       " 'cloud counselage website',\n",
       " 'whatsapp',\n",
       " 'whatsapp',\n",
       " 'whatsapp',\n",
       " 'whatsapp',\n",
       " 'cloud counselage website',\n",
       " 'whatsapp',\n",
       " 'cloud counselage website',\n",
       " 'whatsapp',\n",
       " 'others',\n",
       " 'email',\n",
       " 'whatsapp',\n",
       " 'cloud counselage website | others',\n",
       " 'email',\n",
       " 'linkedin',\n",
       " 'cloud counselage website',\n",
       " 'youtube',\n",
       " 'cloud counselage website',\n",
       " 'cloud counselage website',\n",
       " 'whatsapp',\n",
       " 'cloud counselage website | others',\n",
       " 'whatsapp',\n",
       " 'linkedin',\n",
       " 'cloud counselage website',\n",
       " 'linkedin',\n",
       " 'whatsapp',\n",
       " 'cloud counselage website',\n",
       " 'whatsapp | cloud counselage website',\n",
       " 'whatsapp',\n",
       " 'whatsapp',\n",
       " 'whatsapp',\n",
       " 'spoc| college professor',\n",
       " 'whatsapp',\n",
       " 'others',\n",
       " 'whatsapp',\n",
       " 'email',\n",
       " 'others',\n",
       " 'whatsapp',\n",
       " 'youtube',\n",
       " 'cloud counselage website',\n",
       " 'email',\n",
       " 'whatsapp',\n",
       " 'whatsapp',\n",
       " 'whatsapp | others',\n",
       " 'whatsapp',\n",
       " 'email',\n",
       " 'linkedin | whatsapp',\n",
       " 'cloud counselage website',\n",
       " 'email',\n",
       " 'youtube | whatsapp',\n",
       " 'whatsapp',\n",
       " 'whatsapp | others',\n",
       " 'whatsapp',\n",
       " 'cloud counselage website',\n",
       " 'whatsapp',\n",
       " 'cloud counselage website',\n",
       " 'email',\n",
       " 'whatsapp | cloud counselage website',\n",
       " 'cloud counselage website',\n",
       " 'others',\n",
       " 'whatsapp',\n",
       " 'whatsapp',\n",
       " 'facebook',\n",
       " 'whatsapp',\n",
       " 'linkedin',\n",
       " 'telegram',\n",
       " 'instagram',\n",
       " 'whatsapp',\n",
       " 'linkedin | whatsapp',\n",
       " 'cloud counselage website',\n",
       " 'whatsapp',\n",
       " 'cloud counselage website',\n",
       " 'whatsapp',\n",
       " 'others',\n",
       " 'others',\n",
       " 'whatsapp',\n",
       " 'cloud counselage website | others',\n",
       " 'email',\n",
       " 'cloud counselage website',\n",
       " 'cloud counselage website',\n",
       " 'spoc| college professor',\n",
       " 'whatsapp | email',\n",
       " 'whatsapp | spoc| college professor',\n",
       " 'cloud counselage website',\n",
       " 'whatsapp',\n",
       " 'whatsapp',\n",
       " 'instagram',\n",
       " 'whatsapp | friend| classmate',\n",
       " 'whatsapp',\n",
       " 'whatsapp | friend| classmate | spoc| college professor',\n",
       " 'friend| classmate | spoc| college professor',\n",
       " 'whatsapp',\n",
       " 'whatsapp | spoc| college professor',\n",
       " 'whatsapp',\n",
       " 'whatsapp',\n",
       " 'whatsapp',\n",
       " 'whatsapp',\n",
       " 'whatsapp',\n",
       " 'whatsapp | spoc| college professor',\n",
       " 'spoc| college professor',\n",
       " 'whatsapp',\n",
       " 'whatsapp',\n",
       " 'whatsapp',\n",
       " 'whatsapp',\n",
       " 'whatsapp',\n",
       " 'whatsapp',\n",
       " 'cloud counselage website',\n",
       " 'whatsapp',\n",
       " 'cloud counselage website',\n",
       " 'linkedin | email | cloud counselage website | telegram',\n",
       " 'whatsapp',\n",
       " 'spoc| college professor',\n",
       " 'instagram',\n",
       " 'whatsapp',\n",
       " 'whatsapp',\n",
       " 'cloud counselage website',\n",
       " 'email',\n",
       " 'email',\n",
       " 'email',\n",
       " 'email',\n",
       " 'email',\n",
       " 'email',\n",
       " 'cloud counselage website',\n",
       " 'whatsapp | friend| classmate',\n",
       " 'whatsapp',\n",
       " 'team entity',\n",
       " 'whatsapp',\n",
       " 'whatsapp',\n",
       " 'whatsapp',\n",
       " 'whatsapp | friend| classmate',\n",
       " 'youtube',\n",
       " 'email',\n",
       " 'whatsapp',\n",
       " 'email',\n",
       " 'email',\n",
       " 'spoc| college professor',\n",
       " 'instagram',\n",
       " 'email',\n",
       " 'others',\n",
       " 'whatsapp',\n",
       " 'spoc| college professor',\n",
       " 'others',\n",
       " 'others',\n",
       " 'spoc| college professor',\n",
       " 'linkedin | telegram',\n",
       " 'others',\n",
       " 'others',\n",
       " 'others',\n",
       " 'whatsapp',\n",
       " 'others',\n",
       " 'others',\n",
       " 'others',\n",
       " 'whatsapp',\n",
       " 'whatsapp',\n",
       " 'others',\n",
       " 'others',\n",
       " 'spoc| college professor',\n",
       " 'others',\n",
       " 'others',\n",
       " 'others',\n",
       " 'others',\n",
       " 'others',\n",
       " 'whatsapp',\n",
       " 'others',\n",
       " 'others',\n",
       " 'others',\n",
       " 'whatsapp',\n",
       " 'whatsapp | spoc| college professor',\n",
       " 'whatsapp',\n",
       " 'spoc| college professor',\n",
       " 'others',\n",
       " 'others',\n",
       " 'whatsapp',\n",
       " 'whatsapp',\n",
       " 'spoc| college professor',\n",
       " 'others',\n",
       " 'others',\n",
       " 'others',\n",
       " 'youtube | instagram | whatsapp',\n",
       " 'others',\n",
       " 'others',\n",
       " 'others',\n",
       " 'others',\n",
       " 'others',\n",
       " 'whatsapp',\n",
       " 'spoc| college professor',\n",
       " 'spoc| college professor',\n",
       " 'others',\n",
       " 'others',\n",
       " 'others',\n",
       " 'whatsapp',\n",
       " 'whatsapp',\n",
       " 'others',\n",
       " 'others',\n",
       " 'email',\n",
       " 'spoc| college professor',\n",
       " 'others',\n",
       " 'friend| classmate | spoc| college professor',\n",
       " 'others',\n",
       " 'whatsapp',\n",
       " 'college',\n",
       " 'spoc| college professor',\n",
       " 'others',\n",
       " 'others',\n",
       " 'others',\n",
       " 'others',\n",
       " 'facebook',\n",
       " 'spoc| college professor',\n",
       " 'others',\n",
       " 'others',\n",
       " 'others',\n",
       " 'others',\n",
       " 'others',\n",
       " 'others',\n",
       " 'email',\n",
       " 'others',\n",
       " 'email',\n",
       " 'whatsapp',\n",
       " 'others',\n",
       " 'others',\n",
       " 'others',\n",
       " 'others',\n",
       " 'whatsapp',\n",
       " 'whatsapp',\n",
       " 'others',\n",
       " 'others',\n",
       " 'others',\n",
       " 'others',\n",
       " 'others',\n",
       " 'instagram',\n",
       " 'others',\n",
       " 'others',\n",
       " 'others',\n",
       " 'spoc| college professor',\n",
       " 'others',\n",
       " 'others',\n",
       " 'others',\n",
       " 'whatsapp',\n",
       " 'others',\n",
       " 'whatsapp',\n",
       " ...]"
      ]
     },
     "execution_count": 58,
     "metadata": {},
     "output_type": "execute_result"
    }
   ],
   "source": [
    "final_df[\"Event_Source\"].str.replace(\"/\",\"|\").values.tolist()"
   ]
  },
  {
   "cell_type": "code",
   "execution_count": 59,
   "id": "c9074b4a-ad3b-4487-beee-e0e4f4d81d87",
   "metadata": {},
   "outputs": [
    {
     "name": "stderr",
     "output_type": "stream",
     "text": [
      "C:\\Users\\Mayur Dalvi\\AppData\\Local\\Temp\\ipykernel_23248\\2470612788.py:1: SettingWithCopyWarning: \n",
      "A value is trying to be set on a copy of a slice from a DataFrame.\n",
      "Try using .loc[row_indexer,col_indexer] = value instead\n",
      "\n",
      "See the caveats in the documentation: https://pandas.pydata.org/pandas-docs/stable/user_guide/indexing.html#returning-a-view-versus-a-copy\n",
      "  final_df[\"Event_Source\"] = final_df[\"Event_Source\"].str.replace(\"/\",\"|\").values.tolist()\n"
     ]
    }
   ],
   "source": [
    "final_df[\"Event_Source\"] = final_df[\"Event_Source\"].str.replace(\"/\",\"|\").values.tolist()"
   ]
  },
  {
   "cell_type": "code",
   "execution_count": 60,
   "id": "4eb2d147-dd4d-4146-a635-7ed893c4e3bc",
   "metadata": {},
   "outputs": [
    {
     "name": "stderr",
     "output_type": "stream",
     "text": [
      "C:\\Users\\Mayur Dalvi\\AppData\\Local\\Temp\\ipykernel_23248\\4279440407.py:10: SettingWithCopyWarning: \n",
      "A value is trying to be set on a copy of a slice from a DataFrame.\n",
      "Try using .loc[row_indexer,col_indexer] = value instead\n",
      "\n",
      "See the caveats in the documentation: https://pandas.pydata.org/pandas-docs/stable/user_guide/indexing.html#returning-a-view-versus-a-copy\n",
      "  final_df[\"Event_Source\"] = final_df[\"Event_Source\"].apply(process_event_source)\n"
     ]
    },
    {
     "data": {
      "text/html": [
       "<div>\n",
       "<style scoped>\n",
       "    .dataframe tbody tr th:only-of-type {\n",
       "        vertical-align: middle;\n",
       "    }\n",
       "\n",
       "    .dataframe tbody tr th {\n",
       "        vertical-align: top;\n",
       "    }\n",
       "\n",
       "    .dataframe thead th {\n",
       "        text-align: right;\n",
       "    }\n",
       "</style>\n",
       "<table border=\"1\" class=\"dataframe\">\n",
       "  <thead>\n",
       "    <tr style=\"text-align: right;\">\n",
       "      <th></th>\n",
       "      <th>Entry</th>\n",
       "      <th>Count</th>\n",
       "    </tr>\n",
       "  </thead>\n",
       "  <tbody>\n",
       "    <tr>\n",
       "      <th>5</th>\n",
       "      <td>whatsapp</td>\n",
       "      <td>1799</td>\n",
       "    </tr>\n",
       "    <tr>\n",
       "      <th>15</th>\n",
       "      <td>others</td>\n",
       "      <td>989</td>\n",
       "    </tr>\n",
       "    <tr>\n",
       "      <th>0</th>\n",
       "      <td>email</td>\n",
       "      <td>745</td>\n",
       "    </tr>\n",
       "    <tr>\n",
       "      <th>10</th>\n",
       "      <td>spoc</td>\n",
       "      <td>588</td>\n",
       "    </tr>\n",
       "    <tr>\n",
       "      <th>11</th>\n",
       "      <td>college professor</td>\n",
       "      <td>588</td>\n",
       "    </tr>\n",
       "    <tr>\n",
       "      <th>4</th>\n",
       "      <td>cloud counselage website</td>\n",
       "      <td>288</td>\n",
       "    </tr>\n",
       "    <tr>\n",
       "      <th>6</th>\n",
       "      <td>youtube</td>\n",
       "      <td>157</td>\n",
       "    </tr>\n",
       "    <tr>\n",
       "      <th>2</th>\n",
       "      <td>instagram</td>\n",
       "      <td>130</td>\n",
       "    </tr>\n",
       "    <tr>\n",
       "      <th>3</th>\n",
       "      <td>linkedin</td>\n",
       "      <td>127</td>\n",
       "    </tr>\n",
       "    <tr>\n",
       "      <th>13</th>\n",
       "      <td>classmate</td>\n",
       "      <td>115</td>\n",
       "    </tr>\n",
       "    <tr>\n",
       "      <th>12</th>\n",
       "      <td>friend</td>\n",
       "      <td>115</td>\n",
       "    </tr>\n",
       "    <tr>\n",
       "      <th>7</th>\n",
       "      <td>facebook</td>\n",
       "      <td>114</td>\n",
       "    </tr>\n",
       "    <tr>\n",
       "      <th>1</th>\n",
       "      <td>college</td>\n",
       "      <td>66</td>\n",
       "    </tr>\n",
       "    <tr>\n",
       "      <th>9</th>\n",
       "      <td>telegram</td>\n",
       "      <td>54</td>\n",
       "    </tr>\n",
       "    <tr>\n",
       "      <th>14</th>\n",
       "      <td>twitter</td>\n",
       "      <td>10</td>\n",
       "    </tr>\n",
       "    <tr>\n",
       "      <th>8</th>\n",
       "      <td>friends</td>\n",
       "      <td>9</td>\n",
       "    </tr>\n",
       "    <tr>\n",
       "      <th>16</th>\n",
       "      <td>team entity</td>\n",
       "      <td>2</td>\n",
       "    </tr>\n",
       "    <tr>\n",
       "      <th>17</th>\n",
       "      <td>institute</td>\n",
       "      <td>1</td>\n",
       "    </tr>\n",
       "    <tr>\n",
       "      <th>18</th>\n",
       "      <td>from academy</td>\n",
       "      <td>1</td>\n",
       "    </tr>\n",
       "  </tbody>\n",
       "</table>\n",
       "</div>"
      ],
      "text/plain": [
       "                       Entry  Count\n",
       "5                   whatsapp   1799\n",
       "15                    others    989\n",
       "0                      email    745\n",
       "10                      spoc    588\n",
       "11         college professor    588\n",
       "4   cloud counselage website    288\n",
       "6                    youtube    157\n",
       "2                  instagram    130\n",
       "3                   linkedin    127\n",
       "13                 classmate    115\n",
       "12                    friend    115\n",
       "7                   facebook    114\n",
       "1                    college     66\n",
       "9                   telegram     54\n",
       "14                   twitter     10\n",
       "8                    friends      9\n",
       "16               team entity      2\n",
       "17                 institute      1\n",
       "18              from academy      1"
      ]
     },
     "execution_count": 60,
     "metadata": {},
     "output_type": "execute_result"
    }
   ],
   "source": [
    "# Create a function to process each entry in the \"Event_Source\" column\n",
    "def process_event_source(event_source):\n",
    "    split_data = [item.strip() for item in event_source.split('|')]\n",
    "    if len(split_data) == 1:\n",
    "        return '|'.join(split_data)\n",
    "    else:\n",
    "        return '|'.join([item for item in split_data if item != 'others'])\n",
    "\n",
    "# Apply the function to the \"Event_Source\" column to clean the data\n",
    "final_df[\"Event_Source\"] = final_df[\"Event_Source\"].apply(process_event_source)\n",
    "\n",
    "# Split the cleaned data again to count occurrences\n",
    "processed_event_sources = final_df[\"Event_Source\"].apply(lambda x: x.split('|'))\n",
    "\n",
    "# Flatten the list of lists\n",
    "all_entries = [entry for sublist in processed_event_sources for entry in sublist]\n",
    "\n",
    "# Count the occurrences of each unique entry\n",
    "entry_counts = {}\n",
    "for entry in all_entries:\n",
    "    if entry in entry_counts:\n",
    "        entry_counts[entry] += 1\n",
    "    else:\n",
    "        entry_counts[entry] = 1\n",
    "\n",
    "# Convert the counts dictionary to a DataFrame for better visualization\n",
    "result_df = pd.DataFrame(list(entry_counts.items()), columns=['Entry', 'Count'])\n",
    "\n",
    "result_df = result_df.sort_values(by='Count', ascending=False)\n",
    "result_df\n"
   ]
  },
  {
   "cell_type": "code",
   "execution_count": 61,
   "id": "467c639c-81d5-433c-98d3-dd3645bd04fd",
   "metadata": {},
   "outputs": [
    {
     "data": {
      "text/plain": [
       "Entry\n",
       "whatsapp    1799\n",
       "Name: Count, dtype: int64"
      ]
     },
     "execution_count": 61,
     "metadata": {},
     "output_type": "execute_result"
    }
   ],
   "source": [
    "result_df.groupby(\"Entry\")[\"Count\"].sum().sort_values(ascending = False).head(1)\n",
    "# here i am extracting the top 1 channel of promotion "
   ]
  },
  {
   "cell_type": "markdown",
   "id": "57dc43ba-ac26-4052-b412-01e03c5f90ab",
   "metadata": {},
   "source": [
    "### 16) Find the total number of students who attended events related to the data science(from all data science related courses)\n",
    "### Ans :- Data Science Related courses are : 1089"
   ]
  },
  {
   "cell_type": "code",
   "execution_count": 62,
   "id": "6d3994bc-50e5-44d9-9c91-034d803cb435",
   "metadata": {},
   "outputs": [
    {
     "data": {
      "text/plain": [
       "1089"
      ]
     },
     "execution_count": 62,
     "metadata": {},
     "output_type": "execute_result"
    }
   ],
   "source": [
    "# to solve this i used REGEX pattern \n",
    "\n",
    "data_science_related_course = final_df[final_df['Events'].str.contains(r'\\bdata\\b|\\bartificial intelligence\\b|\\bml\\b|\\bdl\\b', case=False, regex=True)][\"Events\"].value_counts().values.sum()\n",
    "data_science_related_course"
   ]
  },
  {
   "cell_type": "markdown",
   "id": "46994d09-a040-4cbb-8963-a9fbd772ff3b",
   "metadata": {},
   "source": [
    "### 17) Those who have high CGPA & more experience in language those who had high expectations for salary ? (Avg)\n",
    "### Ans :- The average expected salary for students with high CGPA and more experience in Python is: `16.94`"
   ]
  },
  {
   "cell_type": "code",
   "execution_count": 63,
   "id": "05bf4daf-007c-436e-8ffc-1c2dd2ba2775",
   "metadata": {},
   "outputs": [
    {
     "name": "stdout",
     "output_type": "stream",
     "text": [
      "The average expected salary for students with high CGPA and more experience in Python is: 16.94\n"
     ]
    }
   ],
   "source": [
    "high_cgpa_high_experience = final_df[(final_df['CGPA'] > final_df['CGPA'].mean()) & \n",
    "                                     (final_df['Experience with python (Months)'] > final_df['Experience with python (Months)'].mean())]\n",
    "avg_expected_salary = high_cgpa_high_experience['Expected salary (Lack)'].mean()\n",
    "\n",
    "print(f\"The average expected salary for students with high CGPA and more experience in Python is: {avg_expected_salary:.2f}\")"
   ]
  },
  {
   "cell_type": "markdown",
   "id": "96744654-1cea-4d9a-ae7b-52f22375f23b",
   "metadata": {},
   "source": [
    "### 18) How many students know about the event from their college ? which of this top 5 colleges ?\n",
    "### Ans :- The `654`  no.of students know about the event from their college & top 5 colleges have shown inside the graph"
   ]
  },
  {
   "cell_type": "code",
   "execution_count": 64,
   "id": "30349eb7-98d9-408e-83ad-fdb292302d92",
   "metadata": {},
   "outputs": [
    {
     "data": {
      "text/plain": [
       "654"
      ]
     },
     "execution_count": 64,
     "metadata": {},
     "output_type": "execute_result"
    }
   ],
   "source": [
    "final_df[final_df[\"Event_Source\"].str.strip().str.contains(\"college\")].shape[0]"
   ]
  },
  {
   "cell_type": "code",
   "execution_count": 65,
   "id": "1935e507-4fd3-49a9-bfa2-73b976f83718",
   "metadata": {},
   "outputs": [
    {
     "data": {
      "text/plain": [
       "College Name\n",
       "vidyalankar institute of technology, mumbai              42\n",
       "mit academy of engineering ,alandi                       40\n",
       "kle society's college of bca, rls institute, belagavi    40\n",
       "wilson college                                           36\n",
       "ld college of engineering, ahmedabad, gujarat            35\n",
       "Name: count, dtype: int64"
      ]
     },
     "execution_count": 65,
     "metadata": {},
     "output_type": "execute_result"
    }
   ],
   "source": [
    "top_colleges = final_df[final_df[\"Event_Source\"].str.strip().str.contains(\"college\")][\"College Name\"].value_counts().head()\n",
    "top_colleges"
   ]
  },
  {
   "cell_type": "code",
   "execution_count": 66,
   "id": "d000ef44-fc88-4c13-9058-5876a4c76746",
   "metadata": {},
   "outputs": [
    {
     "data": {
      "text/plain": [
       "<Axes: xlabel='College Name'>"
      ]
     },
     "execution_count": 66,
     "metadata": {},
     "output_type": "execute_result"
    },
    {
     "data": {
      "image/png": "[encoded data removed]",
      "text/plain": [
       "<Figure size 1500x500 with 1 Axes>"
      ]
     },
     "metadata": {},
     "output_type": "display_data"
    }
   ],
   "source": [
    "plt.figure(figsize=(15,5))\n",
    "top_colleges.plot(kind =\"bar\")"
   ]
  },
  {
   "cell_type": "code",
   "execution_count": 67,
   "id": "230561c9-660f-4e66-9670-de5cbe579c2d",
   "metadata": {},
   "outputs": [
    {
     "data": {
      "text/plain": [
       "(4510, 15)"
      ]
     },
     "execution_count": 67,
     "metadata": {},
     "output_type": "execute_result"
    }
   ],
   "source": [
    "final_df.shape"
   ]
  },
  {
   "cell_type": "code",
   "execution_count": 68,
   "id": "abe9fa54-7fc8-4461-9038-c8360d15602e",
   "metadata": {},
   "outputs": [
    {
     "data": {
      "text/plain": [
       "First Name                         0\n",
       "Email ID                           0\n",
       "Quantity                           0\n",
       "Events                             0\n",
       "Attendee Status                    0\n",
       "College Name                       0\n",
       "Event_Source                       0\n",
       "Designation                        0\n",
       "Year of Graduation                 0\n",
       "City                               0\n",
       "CGPA                               0\n",
       "Experience with python (Months)    0\n",
       "Family_Income(Lack)                0\n",
       "Expected salary (Lack)             0\n",
       "Leadership- skills                 0\n",
       "dtype: int64"
      ]
     },
     "execution_count": 68,
     "metadata": {},
     "output_type": "execute_result"
    }
   ],
   "source": [
    "final_df.isnull().sum()"
   ]
  },
  {
   "cell_type": "code",
   "execution_count": 69,
   "id": "707964e3-4fa0-49e2-ac55-a9ed4165f296",
   "metadata": {},
   "outputs": [],
   "source": [
    "final_df.to_csv(\"Students Analyzed Data .csv\" , index = False)"
   ]
  },
  {
   "cell_type": "markdown",
   "id": "c0ddda5c-69a5-4435-9114-28bb9eaa4133",
   "metadata": {},
   "source": [
    "# This is How i reached my final Insights "
   ]
  },
  {
   "cell_type": "markdown",
   "id": "e1e8f2ff-84ce-4a4f-af49-9eae0d8b6516",
   "metadata": {},
   "source": [
    "# `Thank You So Much 😇`"
   ]
  },
  {
   "cell_type": "code",
   "execution_count": null,
   "id": "9be7cb33-d765-4fb8-878e-37494c37a059",
   "metadata": {},
   "outputs": [],
   "source": []
  }
 ],
 "metadata": {
  "kernelspec": {
   "display_name": "Python 3 (ipykernel)",
   "language": "python",
   "name": "python3"
  },
  "language_info": {
   "codemirror_mode": {
    "name": "ipython",
    "version": 3
   },
   "file_extension": ".py",
   "mimetype": "text/x-python",
   "name": "python",
   "nbconvert_exporter": "python",
   "pygments_lexer": "ipython3",
   "version": "3.12.3"
  }
 },
 "nbformat": 4,
 "nbformat_minor": 5
}
